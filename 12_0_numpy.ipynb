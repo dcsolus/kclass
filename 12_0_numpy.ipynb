{
 "cells": [
  {
   "cell_type": "markdown",
   "metadata": {},
   "source": [
    "# Numpy vs. list\n",
    "(pip install numpy pandas matplotlib)\n",
    "- 벡터 연산\n",
    "- 크기 변경\n",
    "- 데이터 타입\n",
    "- 메모리 효율성 >> 연산 속도"
   ]
  },
  {
   "cell_type": "code",
   "execution_count": 2,
   "metadata": {},
   "outputs": [],
   "source": [
    "import numpy as np"
   ]
  },
  {
   "cell_type": "markdown",
   "metadata": {},
   "source": [
    "- array 는 생성한 뒤, 값을 추가할 수 없다(변경가능)\n",
    "- array는 벡터연산이 가능하다\n",
    "\n",
    "- list 는 생성, 삭제, 변경 모두 가능"
   ]
  },
  {
   "cell_type": "code",
   "execution_count": 3,
   "metadata": {},
   "outputs": [
    {
     "name": "stdout",
     "output_type": "stream",
     "text": [
      "list_1 = [0, 1, 2, 3, 4]\n",
      "arr_1 = array([0, 1, 2, 3, 4])\n",
      "arr_2 = array([1, 2, 3, 4, 5])\n"
     ]
    }
   ],
   "source": [
    "list_1 = [0,1,2,3,4]\n",
    "result = list_1 + 1 # ERRRRORRR!!!!!\n",
    "# for idx, i in enumerate(list_1):\n",
    "    # print(f'{idx = }, {i = }')\n",
    "    # list_1[idx] = i + 1\n",
    "list_2 = []\n",
    "for i in list_1:\n",
    "    res = i + 1\n",
    "    list_2.append(res)\n",
    "\n",
    "print(f'{list_1 = }')\n",
    "# print(f'{list_2 = }')\n",
    "\n",
    "arr_1 = np.array(list_1)\n",
    "\n",
    "arr_2 = arr_1 + 1\n",
    "\n",
    "print(f'{arr_1 = }')\n",
    "print(f'{arr_2 = }')"
   ]
  },
  {
   "cell_type": "code",
   "execution_count": 4,
   "metadata": {},
   "outputs": [
    {
     "name": "stdout",
     "output_type": "stream",
     "text": [
      "list_1 = [0, 1, 2, 3, 4]\n"
     ]
    }
   ],
   "source": [
    "# list_1 = [\"hello\",'a',arr_2,3,1343.45]\n",
    "list_1 = [0,1,2,3,4]\n",
    "print(f'{list_1 = }')\n",
    "\n",
    "arr_1 = np.array(list_1)"
   ]
  },
  {
   "cell_type": "code",
   "execution_count": 5,
   "metadata": {},
   "outputs": [
    {
     "name": "stdout",
     "output_type": "stream",
     "text": [
      "[[0, 1, 2], [3, 4.3, 5], [6, 7, 8]]\n",
      "[[0 1 2]\n",
      " [3 4 5]\n",
      " [6 7 8]]\n",
      "[[0 1 2]\n",
      " [3 4 5]\n",
      " [6 7 8]]\n"
     ]
    },
    {
     "data": {
      "text/plain": [
       "[[0, 1, 2], [3, 4, 5], [6, 7, 8]]"
      ]
     },
     "execution_count": 5,
     "metadata": {},
     "output_type": "execute_result"
    }
   ],
   "source": [
    "# 다양한 차원의 array\n",
    "list2 = [[0,1,2], [3,4.3,5], [6,7,8]]\n",
    "arr2d = np.array(list2, dtype='int')\n",
    "\n",
    "print(list2)\n",
    "print(arr2d)\n",
    "\n",
    "arr2d = arr2d.astype('int')\n",
    "print(arr2d)\n",
    "\n",
    "arr2d.tolist()"
   ]
  },
  {
   "cell_type": "markdown",
   "metadata": {},
   "source": [
    "# Create a numpy array"
   ]
  },
  {
   "cell_type": "markdown",
   "metadata": {},
   "source": [
    "# 벡터 연산"
   ]
  },
  {
   "cell_type": "markdown",
   "metadata": {},
   "source": [
    "# 크기 변경"
   ]
  },
  {
   "cell_type": "markdown",
   "metadata": {},
   "source": [
    "# 데이터 타입"
   ]
  },
  {
   "cell_type": "markdown",
   "metadata": {},
   "source": [
    "# numpy array 연산"
   ]
  },
  {
   "cell_type": "markdown",
   "metadata": {},
   "source": [
    "# numpy 고급"
   ]
  },
  {
   "cell_type": "code",
   "execution_count": 6,
   "metadata": {},
   "outputs": [
    {
     "name": "stdout",
     "output_type": "stream",
     "text": [
      "[[0 1 2]\n",
      " [3 4 5]\n",
      " [6 7 8]]\n",
      "(3, 3)\n",
      "[[0 1]\n",
      " [3 4]]\n"
     ]
    }
   ],
   "source": [
    "print(arr2d)\n",
    "print(arr2d.shape)\n",
    "\n",
    "\n",
    "print(arr2d[:2, :2])"
   ]
  },
  {
   "cell_type": "code",
   "execution_count": 22,
   "metadata": {},
   "outputs": [
    {
     "name": "stdout",
     "output_type": "stream",
     "text": [
      "[[100   2   3   4]\n",
      " [  3   4   5   6]\n",
      " [  5   6   7   7]]\n",
      "[[ True False False False]\n",
      " [False False  True  True]\n",
      " [ True  True  True  True]]\n",
      "[100   5   6   5   6   7   7]\n"
     ]
    },
    {
     "data": {
      "text/plain": [
       "array([100])"
      ]
     },
     "execution_count": 22,
     "metadata": {},
     "output_type": "execute_result"
    }
   ],
   "source": [
    "print(arr2d)\n",
    "arr3 = arr2d > 4\n",
    "print(arr3)\n",
    "\n",
    "print(arr2d[arr3])\n",
    "\n",
    "arr2d[np.where(arr2d > 10)]"
   ]
  },
  {
   "cell_type": "markdown",
   "metadata": {},
   "source": [
    "# mean, min, max, std"
   ]
  },
  {
   "cell_type": "code",
   "execution_count": 8,
   "metadata": {},
   "outputs": [
    {
     "name": "stdout",
     "output_type": "stream",
     "text": [
      "[[0 1 2]\n",
      " [3 4 5]\n",
      " [6 7 8]]\n",
      "arr2d.mean() = 4.0\n",
      "arr2d.max() = 8\n",
      "arr2d.min() = 0\n",
      "arr2d.std() = 2.581988897471611\n"
     ]
    }
   ],
   "source": [
    "print(arr2d)\n",
    "\n",
    "print(f'{arr2d.mean() = }')\n",
    "print(f'{arr2d.max() = }')\n",
    "print(f'{arr2d.min() = }')\n",
    "print(f'{arr2d.std() = }')"
   ]
  },
  {
   "cell_type": "markdown",
   "metadata": {},
   "source": [
    "# 배열의 shape 변경"
   ]
  },
  {
   "cell_type": "code",
   "execution_count": 9,
   "metadata": {},
   "outputs": [
    {
     "name": "stdout",
     "output_type": "stream",
     "text": [
      "(3, 3)\n"
     ]
    }
   ],
   "source": [
    "print(arr2d.shape)\n",
    "# print(arr2d.reshape(1,12).shape)\n",
    "# print(np.array([1,2,3,4,5,6,7,8,9,10,11,12]).shape)\n"
   ]
  },
  {
   "cell_type": "code",
   "execution_count": 10,
   "metadata": {},
   "outputs": [
    {
     "name": "stdout",
     "output_type": "stream",
     "text": [
      "arr2d = array([[1, 2, 3, 4],\n",
      "       [3, 4, 5, 6],\n",
      "       [5, 6, 7, 7]])\n",
      "b1 = array([1, 2, 3, 4, 3, 4, 5, 6, 5, 6, 7, 7])\n",
      "b1 = array([100,   2,   3,   4,   3,   4,   5,   6,   5,   6,   7,   7])\n",
      "arr2d = array([[1, 2, 3, 4],\n",
      "       [3, 4, 5, 6],\n",
      "       [5, 6, 7, 7]])\n"
     ]
    }
   ],
   "source": [
    "# array => 1차원 평면화: flatten(), ravel()\n",
    "list_2 = [[1,2,3,4], [3,4,5,6], [5,6,7,7]]\n",
    "arr2d = np.array(list_2)\n",
    "print(f'{arr2d = }')\n",
    "\n",
    "b1 = arr2d.flatten()\n",
    "print(f'{b1 = }')\n",
    "b1[0] = 100\n",
    "print(f'{b1 = }')\n",
    "\n",
    "print(f'{arr2d = }')"
   ]
  },
  {
   "cell_type": "code",
   "execution_count": 11,
   "metadata": {},
   "outputs": [
    {
     "name": "stdout",
     "output_type": "stream",
     "text": [
      "b2 = array([1, 2, 3, 4, 3, 4, 5, 6, 5, 6, 7, 7])\n",
      "b2 = array([100,   2,   3,   4,   3,   4,   5,   6,   5,   6,   7,   7])\n",
      "arr2d = array([[100,   2,   3,   4],\n",
      "       [  3,   4,   5,   6],\n",
      "       [  5,   6,   7,   7]])\n"
     ]
    }
   ],
   "source": [
    "b2 = arr2d.ravel()\n",
    "print(f'{b2 = }')\n",
    "b2[0] = 100\n",
    "\n",
    "print(f'{b2 = }')\n",
    "print(f'{arr2d = }')"
   ]
  },
  {
   "cell_type": "code",
   "execution_count": 12,
   "metadata": {},
   "outputs": [],
   "source": [
    "# Lower limit is 0 be default : 0 to 9\n",
    "# np.arange(10)\n",
    "\n",
    "# 0 to 9 with step of 2\n",
    "# np.arange(0, 10, 2)\n",
    "\n",
    "# 10 to 1, decreasing order\n",
    "# np.arange(10, 0, -1)\n",
    "\n",
    "a = np.linspace(start=1, stop=50, num=10, dtype='int').tolist()\n",
    "\n"
   ]
  },
  {
   "cell_type": "markdown",
   "metadata": {},
   "source": [
    "# Random Numbers"
   ]
  },
  {
   "cell_type": "markdown",
   "metadata": {},
   "source": [
    "# "
   ]
  },
  {
   "cell_type": "code",
   "execution_count": 13,
   "metadata": {},
   "outputs": [
    {
     "name": "stdout",
     "output_type": "stream",
     "text": [
      "[0.66012095 0.14361988 0.64541595 0.07118364 0.07972794]\n",
      "[-0.53900709  0.23974356 -0.04309394 -0.98938232 -0.23259903]\n",
      "a = [1, 6, 11, 17, 22, 28, 33, 39, 44, 50]\n"
     ]
    },
    {
     "data": {
      "text/plain": [
       "array([ 6, 11])"
      ]
     },
     "execution_count": 13,
     "metadata": {},
     "output_type": "execute_result"
    }
   ],
   "source": [
    "print(np.random.rand(5)) # [0, 1]\n",
    "\n",
    "print(np.random.randn(5)) # normal distribution, mean=0, variance= 1\n",
    "\n",
    "# pick 2 items from a give population\n",
    "print(f'{a = }')\n",
    "\n",
    "np.random.choice(a, size=2) # size means the number of picks\n",
    "\n"
   ]
  },
  {
   "cell_type": "markdown",
   "metadata": {},
   "source": [
    "# 샘플 추출을 반복할 때 동일한 결과를 보장하기 위한 방법"
   ]
  },
  {
   "cell_type": "code",
   "execution_count": 14,
   "metadata": {},
   "outputs": [
    {
     "name": "stdout",
     "output_type": "stream",
     "text": [
      "[0.19151945 0.62210877 0.43772774 0.78535858 0.77997581]\n",
      "[-0.94029827 -0.95658428 -0.33060682  0.87412791  2.00254961]\n",
      "a = [1, 6, 11, 17, 22, 28, 33, 39, 44, 50]\n"
     ]
    },
    {
     "data": {
      "text/plain": [
       "array([50, 33])"
      ]
     },
     "execution_count": 14,
     "metadata": {},
     "output_type": "execute_result"
    }
   ],
   "source": [
    "# Random seed\n",
    "\n",
    "np.random.seed(1234)\n",
    "\n",
    "print(np.random.rand(5)) # [0, 1]\n",
    "print(np.random.randn(5)) # normal distribution, mean=0, variance= 1\n",
    "# pick 2 items from a give population\n",
    "print(f'{a = }')\n",
    "np.random.choice(a, size=2) # size means the number of picks\n"
   ]
  },
  {
   "cell_type": "code",
   "execution_count": 15,
   "metadata": {},
   "outputs": [
    {
     "name": "stdout",
     "output_type": "stream",
     "text": [
      "a = array([8, 5, 6, 4, 2]), shape = (5,)\n"
     ]
    }
   ],
   "source": [
    "np.random.seed(49)\n",
    "\n",
    "a = np.random.randint(0, 10, size=5)\n",
    "print(f'{a = }, shape = {a.shape}')\n",
    "\n",
    "# np.where(a > 5, 'gt5', 'le5')"
   ]
  }
 ],
 "metadata": {
  "kernelspec": {
   "display_name": "kclass",
   "language": "python",
   "name": "python3"
  },
  "language_info": {
   "codemirror_mode": {
    "name": "ipython",
    "version": 3
   },
   "file_extension": ".py",
   "mimetype": "text/x-python",
   "name": "python",
   "nbconvert_exporter": "python",
   "pygments_lexer": "ipython3",
   "version": "3.10.10"
  }
 },
 "nbformat": 4,
 "nbformat_minor": 2
}
