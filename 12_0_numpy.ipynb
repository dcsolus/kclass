{
 "cells": [
  {
   "cell_type": "markdown",
   "metadata": {},
   "source": [
    "# Numpy vs. list\n",
    "(pip install numpy pandas matplotlib)\n",
    "- 벡터 연산\n",
    "- 크기 변경\n",
    "- 데이터 타입\n",
    "- 메모리 효율성 >> 연산 속도"
   ]
  },
  {
   "cell_type": "code",
   "execution_count": 1,
   "metadata": {},
   "outputs": [],
   "source": [
    "import numpy as np"
   ]
  },
  {
   "cell_type": "markdown",
   "metadata": {},
   "source": [
    "- array 는 생성한 뒤, 값을 추가할 수 없다(변경가능)\n",
    "- array는 벡터연산이 가능하다\n",
    "\n",
    "- list 는 생성, 삭제, 변경 모두 가능"
   ]
  },
  {
   "cell_type": "code",
   "execution_count": 26,
   "metadata": {},
   "outputs": [
    {
     "name": "stdout",
     "output_type": "stream",
     "text": [
      "list_1 = [1, 2, 3, 4, 5]\n"
     ]
    }
   ],
   "source": [
    "list_1 = [0,1,2,3,4]\n",
    "\n",
    "# for idx, i in enumerate(list_1):\n",
    "    # print(f'{idx = }, {i = }')\n",
    "    # list_1[idx] = i + 1\n",
    "list_2 = []\n",
    "for i in list_1:\n",
    "    res = i + 1\n",
    "    list_2.append(res)\n",
    "\n",
    "print(f'{list_1 = }')\n",
    "# print(f'{list_2 = }')\n",
    "\n",
    "arr_1 = np.array(list_1)\n",
    "\n",
    "arr_2 = arr_1 + 1\n",
    "\n",
    "print(f'{arr_1 = }')\n",
    "print(f'{arr_2 = }')"
   ]
  },
  {
   "cell_type": "code",
   "execution_count": 30,
   "metadata": {},
   "outputs": [
    {
     "name": "stdout",
     "output_type": "stream",
     "text": [
      "list_1 = [0, 1, 2, 3, 4]\n"
     ]
    }
   ],
   "source": [
    "# list_1 = [\"hello\",'a',arr_2,3,1343.45]\n",
    "list_1 = [0,1,2,3,4]\n",
    "print(f'{list_1 = }')\n",
    "\n",
    "arr_1 = np.array(list_1)"
   ]
  },
  {
   "cell_type": "code",
   "execution_count": 46,
   "metadata": {},
   "outputs": [
    {
     "name": "stdout",
     "output_type": "stream",
     "text": [
      "[[0, 1, 2], [3, 4.3, 5], [6, 7, 8]]\n",
      "[[0 1 2]\n",
      " [3 4 5]\n",
      " [6 7 8]]\n",
      "[[0 1 2]\n",
      " [3 4 5]\n",
      " [6 7 8]]\n"
     ]
    },
    {
     "data": {
      "text/plain": [
       "[[0, 1, 2], [3, 4, 5], [6, 7, 8]]"
      ]
     },
     "execution_count": 46,
     "metadata": {},
     "output_type": "execute_result"
    }
   ],
   "source": [
    "# 다양한 차원의 array\n",
    "list2 = [[0,1,2], [3,4.3,5], [6,7,8]]\n",
    "arr2d = np.array(list2, dtype='int')\n",
    "\n",
    "print(list2)\n",
    "print(arr2d)\n",
    "\n",
    "arr2d = arr2d.astype('int')\n",
    "print(arr2d)\n",
    "\n",
    "arr2d.tolist()"
   ]
  },
  {
   "cell_type": "markdown",
   "metadata": {},
   "source": [
    "# Create a numpy array"
   ]
  },
  {
   "cell_type": "markdown",
   "metadata": {},
   "source": [
    "# 벡터 연산"
   ]
  },
  {
   "cell_type": "markdown",
   "metadata": {},
   "source": [
    "# 크기 변경"
   ]
  },
  {
   "cell_type": "markdown",
   "metadata": {},
   "source": [
    "# 데이터 타입"
   ]
  },
  {
   "cell_type": "markdown",
   "metadata": {},
   "source": [
    "# numpy array 연산"
   ]
  },
  {
   "cell_type": "markdown",
   "metadata": {},
   "source": [
    "# numpy 고급"
   ]
  },
  {
   "cell_type": "code",
   "execution_count": 58,
   "metadata": {},
   "outputs": [
    {
     "name": "stdout",
     "output_type": "stream",
     "text": [
      "[[1 2 3 4]\n",
      " [3 4 5 6]\n",
      " [5 6 7 7]]\n",
      "(3, 4)\n",
      "[[1 2]\n",
      " [3 4]]\n"
     ]
    }
   ],
   "source": [
    "print(arr2d)\n",
    "print(arr2d.shape)\n",
    "\n",
    "\n",
    "print(arr2d[:2, :2])"
   ]
  },
  {
   "cell_type": "code",
   "execution_count": 60,
   "metadata": {},
   "outputs": [
    {
     "name": "stdout",
     "output_type": "stream",
     "text": [
      "[[False False False False]\n",
      " [False False  True  True]\n",
      " [ True  True  True  True]]\n"
     ]
    },
    {
     "data": {
      "text/plain": [
       "array([5, 6, 5, 6, 7, 7])"
      ]
     },
     "execution_count": 60,
     "metadata": {},
     "output_type": "execute_result"
    }
   ],
   "source": [
    "arr3 = arr2d > 4\n",
    "print(arr3)\n",
    "\n",
    "arr2d[arr3]"
   ]
  },
  {
   "cell_type": "markdown",
   "metadata": {},
   "source": [
    "# mean, min, max, std"
   ]
  },
  {
   "cell_type": "code",
   "execution_count": 64,
   "metadata": {},
   "outputs": [
    {
     "name": "stdout",
     "output_type": "stream",
     "text": [
      "[[1 2 3 4]\n",
      " [3 4 5 6]\n",
      " [5 6 7 7]]\n",
      "arr2d.mean() = 4.416666666666667\n",
      "arr2d.max() = 7\n",
      "arr2d.min() = 1\n",
      "arr2d.std() = 1.846543317180028\n"
     ]
    }
   ],
   "source": [
    "print(arr2d)\n",
    "\n",
    "print(f'{arr2d.mean() = }')\n",
    "print(f'{arr2d.max() = }')\n",
    "print(f'{arr2d.min() = }')\n",
    "print(f'{arr2d.std() = }')"
   ]
  },
  {
   "cell_type": "markdown",
   "metadata": {},
   "source": [
    "# 배열의 shape 변경"
   ]
  },
  {
   "cell_type": "code",
   "execution_count": 75,
   "metadata": {},
   "outputs": [
    {
     "name": "stdout",
     "output_type": "stream",
     "text": [
      "(3, 4)\n"
     ]
    }
   ],
   "source": [
    "print(arr2d.shape)\n",
    "# print(arr2d.reshape(1,12).shape)\n",
    "# print(np.array([1,2,3,4,5,6,7,8,9,10,11,12]).shape)\n"
   ]
  },
  {
   "cell_type": "code",
   "execution_count": 85,
   "metadata": {},
   "outputs": [
    {
     "name": "stdout",
     "output_type": "stream",
     "text": [
      "arr2d = array([[1, 2, 3, 4],\n",
      "       [3, 4, 5, 6],\n",
      "       [5, 6, 7, 7]])\n",
      "b1 = array([1, 2, 3, 4, 3, 4, 5, 6, 5, 6, 7, 7])\n",
      "b1 = array([100,   2,   3,   4,   3,   4,   5,   6,   5,   6,   7,   7])\n",
      "arr2d = array([[1, 2, 3, 4],\n",
      "       [3, 4, 5, 6],\n",
      "       [5, 6, 7, 7]])\n"
     ]
    }
   ],
   "source": [
    "# array => 1차원 평면화: flatten(), ravel()\n",
    "list_2 = [[1,2,3,4], [3,4,5,6], [5,6,7,7]]\n",
    "arr2d = np.array(list_2)\n",
    "print(f'{arr2d = }')\n",
    "\n",
    "b1 = arr2d.flatten()\n",
    "print(f'{b1 = }')\n",
    "b1[0] = 100\n",
    "print(f'{b1 = }')\n",
    "\n",
    "print(f'{arr2d = }')"
   ]
  },
  {
   "cell_type": "code",
   "execution_count": 86,
   "metadata": {},
   "outputs": [
    {
     "name": "stdout",
     "output_type": "stream",
     "text": [
      "b2 = array([1, 2, 3, 4, 3, 4, 5, 6, 5, 6, 7, 7])\n",
      "b2 = array([100,   2,   3,   4,   3,   4,   5,   6,   5,   6,   7,   7])\n",
      "arr2d = array([[100,   2,   3,   4],\n",
      "       [  3,   4,   5,   6],\n",
      "       [  5,   6,   7,   7]])\n"
     ]
    }
   ],
   "source": [
    "b2 = arr2d.ravel()\n",
    "print(f'{b2 = }')\n",
    "b2[0] = 100\n",
    "\n",
    "print(f'{b2 = }')\n",
    "print(f'{arr2d = }')"
   ]
  },
  {
   "cell_type": "code",
   "execution_count": 94,
   "metadata": {},
   "outputs": [
    {
     "data": {
      "text/plain": [
       "[1, 6, 11, 17, 22, 28, 33, 39, 44, 50]"
      ]
     },
     "execution_count": 94,
     "metadata": {},
     "output_type": "execute_result"
    }
   ],
   "source": [
    "# Lower limit is 0 be default : 0 to 9\n",
    "# np.arange(10)\n",
    "\n",
    "# 0 to 9 with step of 2\n",
    "# np.arange(0, 10, 2)\n",
    "\n",
    "# 10 to 1, decreasing order\n",
    "# np.arange(10, 0, -1)\n",
    "\n",
    "a = np.linspace(start=1, stop=50, num=10, dtype='int').tolist()\n",
    "\n"
   ]
  },
  {
   "cell_type": "markdown",
   "metadata": {},
   "source": [
    "# Random Numbers"
   ]
  },
  {
   "cell_type": "markdown",
   "metadata": {},
   "source": [
    "# "
   ]
  },
  {
   "cell_type": "code",
   "execution_count": 113,
   "metadata": {},
   "outputs": [
    {
     "name": "stdout",
     "output_type": "stream",
     "text": [
      "[0.16241372 0.10684655 0.91683611 0.73978567 0.38670889]\n",
      "[-0.6769938   1.34907955  0.94006575  0.04313695 -0.94017787]\n",
      "a = [1, 6, 11, 17, 22, 28, 33, 39, 44, 50]\n"
     ]
    },
    {
     "data": {
      "text/plain": [
       "array([11, 33])"
      ]
     },
     "execution_count": 113,
     "metadata": {},
     "output_type": "execute_result"
    }
   ],
   "source": [
    "print(np.random.rand(5)) # [0, 1]\n",
    "\n",
    "print(np.random.randn(5)) # normal distribution, mean=0, variance= 1\n",
    "\n",
    "# pick 2 items from a give population\n",
    "print(f'{a = }')\n",
    "\n",
    "np.random.choice(a, size=2) # size means the number of picks\n",
    "\n"
   ]
  },
  {
   "cell_type": "markdown",
   "metadata": {},
   "source": [
    "# 샘플 추출을 반복할 때 동일한 결과를 보장하기 위한 방법"
   ]
  },
  {
   "cell_type": "code",
   "execution_count": 130,
   "metadata": {},
   "outputs": [
    {
     "name": "stdout",
     "output_type": "stream",
     "text": [
      "[0.19151945 0.62210877 0.43772774 0.78535858 0.77997581]\n",
      "[-0.94029827 -0.95658428 -0.33060682  0.87412791  2.00254961]\n",
      "a = [1, 6, 11, 17, 22, 28, 33, 39, 44, 50]\n"
     ]
    },
    {
     "data": {
      "text/plain": [
       "array([50, 33])"
      ]
     },
     "execution_count": 130,
     "metadata": {},
     "output_type": "execute_result"
    }
   ],
   "source": [
    "# Random seed\n",
    "\n",
    "np.random.seed(1234)\n",
    "\n",
    "print(np.random.rand(5)) # [0, 1]\n",
    "print(np.random.randn(5)) # normal distribution, mean=0, variance= 1\n",
    "# pick 2 items from a give population\n",
    "print(f'{a = }')\n",
    "np.random.choice(a, size=2) # size means the number of picks\n"
   ]
  },
  {
   "cell_type": "code",
   "execution_count": 144,
   "metadata": {},
   "outputs": [
    {
     "name": "stdout",
     "output_type": "stream",
     "text": [
      "a = array([8, 5, 6, 4, 2]), shape = (5,)\n"
     ]
    }
   ],
   "source": [
    "np.random.seed(49)\n",
    "\n",
    "a = np.random.randint(0, 10, size=5)\n",
    "print(f'{a = }, shape = {a.shape}')\n",
    "\n",
    "# np.where(a > 5, 'gt5', 'le5')"
   ]
  }
 ],
 "metadata": {
  "kernelspec": {
   "display_name": "kclass",
   "language": "python",
   "name": "python3"
  },
  "language_info": {
   "codemirror_mode": {
    "name": "ipython",
    "version": 3
   },
   "file_extension": ".py",
   "mimetype": "text/x-python",
   "name": "python",
   "nbconvert_exporter": "python",
   "pygments_lexer": "ipython3",
   "version": "3.10.10"
  }
 },
 "nbformat": 4,
 "nbformat_minor": 2
}
