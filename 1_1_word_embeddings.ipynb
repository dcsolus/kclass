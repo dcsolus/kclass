{
 "cells": [
  {
   "cell_type": "markdown",
   "metadata": {},
   "source": [
    "# 코퍼스\n",
    "- 네이버 영화 리뷰 데이터 다운로드(https://github.com/e9t/nsmc)\n",
    "- pandas dataframe 으로 불러오기"
   ]
  },
  {
   "cell_type": "code",
   "execution_count": 3,
   "metadata": {},
   "outputs": [
    {
     "data": {
      "text/html": [
       "<div>\n",
       "<style scoped>\n",
       "    .dataframe tbody tr th:only-of-type {\n",
       "        vertical-align: middle;\n",
       "    }\n",
       "\n",
       "    .dataframe tbody tr th {\n",
       "        vertical-align: top;\n",
       "    }\n",
       "\n",
       "    .dataframe thead th {\n",
       "        text-align: right;\n",
       "    }\n",
       "</style>\n",
       "<table border=\"1\" class=\"dataframe\">\n",
       "  <thead>\n",
       "    <tr style=\"text-align: right;\">\n",
       "      <th></th>\n",
       "      <th>id</th>\n",
       "      <th>document</th>\n",
       "      <th>label</th>\n",
       "    </tr>\n",
       "  </thead>\n",
       "  <tbody>\n",
       "    <tr>\n",
       "      <th>0</th>\n",
       "      <td>9976970</td>\n",
       "      <td>아 더빙.. 진짜 짜증나네요 목소리</td>\n",
       "      <td>0</td>\n",
       "    </tr>\n",
       "    <tr>\n",
       "      <th>1</th>\n",
       "      <td>3819312</td>\n",
       "      <td>흠...포스터보고 초딩영화줄....오버연기조차 가볍지 않구나</td>\n",
       "      <td>1</td>\n",
       "    </tr>\n",
       "    <tr>\n",
       "      <th>2</th>\n",
       "      <td>10265843</td>\n",
       "      <td>너무재밓었다그래서보는것을추천한다</td>\n",
       "      <td>0</td>\n",
       "    </tr>\n",
       "    <tr>\n",
       "      <th>3</th>\n",
       "      <td>9045019</td>\n",
       "      <td>교도소 이야기구먼 ..솔직히 재미는 없다..평점 조정</td>\n",
       "      <td>0</td>\n",
       "    </tr>\n",
       "    <tr>\n",
       "      <th>4</th>\n",
       "      <td>6483659</td>\n",
       "      <td>사이몬페그의 익살스런 연기가 돋보였던 영화!스파이더맨에서 늙어보이기만 했던 커스틴 ...</td>\n",
       "      <td>1</td>\n",
       "    </tr>\n",
       "    <tr>\n",
       "      <th>5</th>\n",
       "      <td>5403919</td>\n",
       "      <td>막 걸음마 뗀 3세부터 초등학교 1학년생인 8살용영화.ㅋㅋㅋ...별반개도 아까움.</td>\n",
       "      <td>0</td>\n",
       "    </tr>\n",
       "    <tr>\n",
       "      <th>6</th>\n",
       "      <td>7797314</td>\n",
       "      <td>원작의 긴장감을 제대로 살려내지못했다.</td>\n",
       "      <td>0</td>\n",
       "    </tr>\n",
       "    <tr>\n",
       "      <th>7</th>\n",
       "      <td>9443947</td>\n",
       "      <td>별 반개도 아깝다 욕나온다 이응경 길용우 연기생활이몇년인지..정말 발로해도 그것보단...</td>\n",
       "      <td>0</td>\n",
       "    </tr>\n",
       "    <tr>\n",
       "      <th>8</th>\n",
       "      <td>7156791</td>\n",
       "      <td>액션이 없는데도 재미 있는 몇안되는 영화</td>\n",
       "      <td>1</td>\n",
       "    </tr>\n",
       "    <tr>\n",
       "      <th>9</th>\n",
       "      <td>5912145</td>\n",
       "      <td>왜케 평점이 낮은건데? 꽤 볼만한데.. 헐리우드식 화려함에만 너무 길들여져 있나?</td>\n",
       "      <td>1</td>\n",
       "    </tr>\n",
       "  </tbody>\n",
       "</table>\n",
       "</div>"
      ],
      "text/plain": [
       "         id                                           document  label\n",
       "0   9976970                                아 더빙.. 진짜 짜증나네요 목소리      0\n",
       "1   3819312                  흠...포스터보고 초딩영화줄....오버연기조차 가볍지 않구나      1\n",
       "2  10265843                                  너무재밓었다그래서보는것을추천한다      0\n",
       "3   9045019                      교도소 이야기구먼 ..솔직히 재미는 없다..평점 조정      0\n",
       "4   6483659  사이몬페그의 익살스런 연기가 돋보였던 영화!스파이더맨에서 늙어보이기만 했던 커스틴 ...      1\n",
       "5   5403919      막 걸음마 뗀 3세부터 초등학교 1학년생인 8살용영화.ㅋㅋㅋ...별반개도 아까움.      0\n",
       "6   7797314                              원작의 긴장감을 제대로 살려내지못했다.      0\n",
       "7   9443947  별 반개도 아깝다 욕나온다 이응경 길용우 연기생활이몇년인지..정말 발로해도 그것보단...      0\n",
       "8   7156791                             액션이 없는데도 재미 있는 몇안되는 영화      1\n",
       "9   5912145      왜케 평점이 낮은건데? 꽤 볼만한데.. 헐리우드식 화려함에만 너무 길들여져 있나?      1"
      ]
     },
     "execution_count": 3,
     "metadata": {},
     "output_type": "execute_result"
    }
   ],
   "source": [
    "import pandas as pd\n",
    "\n",
    "data = pd.read_table('ratings_train.txt')[100:1100]\n",
    "data"
   ]
  },
  {
   "cell_type": "markdown",
   "metadata": {},
   "source": [
    "# Konlpy 라이브러리 패키지를 활용한 토큰화\n",
    "- step1: dataframe 토큰화 연습\n",
    "- step2: 토큰화 함수 생성"
   ]
  },
  {
   "cell_type": "code",
   "execution_count": 2,
   "metadata": {},
   "outputs": [],
   "source": [
    "from konlpy.tag import Okt, Kkma, Komoran, Hannanum\n",
    "\n",
    "tokenizer = Okt()"
   ]
  },
  {
   "cell_type": "code",
   "execution_count": 9,
   "metadata": {},
   "outputs": [
    {
     "name": "stdout",
     "output_type": "stream",
     "text": [
      "raw text: 아 더빙.. 진짜 짜증나네요 목소리\n",
      "tokens: ['더빙', '진짜', '짜증나네요', '목소리']\n"
     ]
    }
   ],
   "source": [
    "# step 1\n",
    "for idx, row in data.iterrows():\n",
    "    doc = row['document']\n",
    "    \n",
    "    results = tokenizer.pos(doc)\n",
    "    \n",
    "    tokens = []\n",
    "    for token, pos in results:\n",
    "        # token, pos = r # ('더빙', 'Noun')\n",
    "        if pos == 'Noun' or pos == 'Adjective':\n",
    "            tokens.append(token)\n",
    "    \n",
    "    print('raw text:', doc)\n",
    "    print('tokens:', tokens)\n",
    "    \n",
    "    break"
   ]
  },
  {
   "cell_type": "code",
   "execution_count": 11,
   "metadata": {},
   "outputs": [],
   "source": [
    "# step2: 함수 만들어 토큰화\n",
    "\n",
    "def process_tokens(doc):\n",
    "    results = tokenizer.pos(doc)\n",
    "\n",
    "    tokens = []\n",
    "    for r in results:\n",
    "        token, pos = r\n",
    "        if pos == 'Noun' or pos == 'Adjective':\n",
    "            tokens.append(token)\n",
    "    return tokens    "
   ]
  },
  {
   "cell_type": "code",
   "execution_count": 14,
   "metadata": {},
   "outputs": [
    {
     "data": {
      "text/html": [
       "<div>\n",
       "<style scoped>\n",
       "    .dataframe tbody tr th:only-of-type {\n",
       "        vertical-align: middle;\n",
       "    }\n",
       "\n",
       "    .dataframe tbody tr th {\n",
       "        vertical-align: top;\n",
       "    }\n",
       "\n",
       "    .dataframe thead th {\n",
       "        text-align: right;\n",
       "    }\n",
       "</style>\n",
       "<table border=\"1\" class=\"dataframe\">\n",
       "  <thead>\n",
       "    <tr style=\"text-align: right;\">\n",
       "      <th></th>\n",
       "      <th>id</th>\n",
       "      <th>label</th>\n",
       "      <th>tokens</th>\n",
       "    </tr>\n",
       "  </thead>\n",
       "  <tbody>\n",
       "    <tr>\n",
       "      <th>0</th>\n",
       "      <td>9976970</td>\n",
       "      <td>0</td>\n",
       "      <td>[더빙, 진짜, 짜증나네요, 목소리]</td>\n",
       "    </tr>\n",
       "    <tr>\n",
       "      <th>1</th>\n",
       "      <td>3819312</td>\n",
       "      <td>1</td>\n",
       "      <td>[흠, 포스터, 보고, 초딩, 영화, 줄, 오버, 연기, 가볍지]</td>\n",
       "    </tr>\n",
       "    <tr>\n",
       "      <th>2</th>\n",
       "      <td>10265843</td>\n",
       "      <td>0</td>\n",
       "      <td>[무재, 밓었, 다그, 래서, 추천]</td>\n",
       "    </tr>\n",
       "    <tr>\n",
       "      <th>3</th>\n",
       "      <td>9045019</td>\n",
       "      <td>0</td>\n",
       "      <td>[교도소, 이야기, 구먼, 솔직히, 재미, 없다, 평점, 조정]</td>\n",
       "    </tr>\n",
       "    <tr>\n",
       "      <th>4</th>\n",
       "      <td>6483659</td>\n",
       "      <td>1</td>\n",
       "      <td>[몬페, 의, 익살스런, 연기, 영화, 스파이더맨, 커스틴, 던스트, 이뻐]</td>\n",
       "    </tr>\n",
       "    <tr>\n",
       "      <th>5</th>\n",
       "      <td>5403919</td>\n",
       "      <td>0</td>\n",
       "      <td>[막, 걸음, 마, 세, 초등학교, 학년, 생인, 영화, 반개, 아까, 움]</td>\n",
       "    </tr>\n",
       "    <tr>\n",
       "      <th>6</th>\n",
       "      <td>7797314</td>\n",
       "      <td>0</td>\n",
       "      <td>[원작, 긴장감, 제대로]</td>\n",
       "    </tr>\n",
       "    <tr>\n",
       "      <th>7</th>\n",
       "      <td>9443947</td>\n",
       "      <td>0</td>\n",
       "      <td>[별, 반개, 아깝다, 욕, 이응경, 길용우, 생활, 년, 정말, 발, 해도, 그것...</td>\n",
       "    </tr>\n",
       "    <tr>\n",
       "      <th>8</th>\n",
       "      <td>7156791</td>\n",
       "      <td>1</td>\n",
       "      <td>[액션, 없는데도, 재미, 있는, 몇, 안되는, 영화]</td>\n",
       "    </tr>\n",
       "    <tr>\n",
       "      <th>9</th>\n",
       "      <td>5912145</td>\n",
       "      <td>1</td>\n",
       "      <td>[왜케, 평점, 낮은건데, 꽤, 볼, 데, 헐리우드, 화려함에만, 있나]</td>\n",
       "    </tr>\n",
       "  </tbody>\n",
       "</table>\n",
       "</div>"
      ],
      "text/plain": [
       "         id  label                                             tokens\n",
       "0   9976970      0                               [더빙, 진짜, 짜증나네요, 목소리]\n",
       "1   3819312      1               [흠, 포스터, 보고, 초딩, 영화, 줄, 오버, 연기, 가볍지]\n",
       "2  10265843      0                               [무재, 밓었, 다그, 래서, 추천]\n",
       "3   9045019      0                [교도소, 이야기, 구먼, 솔직히, 재미, 없다, 평점, 조정]\n",
       "4   6483659      1         [몬페, 의, 익살스런, 연기, 영화, 스파이더맨, 커스틴, 던스트, 이뻐]\n",
       "5   5403919      0         [막, 걸음, 마, 세, 초등학교, 학년, 생인, 영화, 반개, 아까, 움]\n",
       "6   7797314      0                                     [원작, 긴장감, 제대로]\n",
       "7   9443947      0  [별, 반개, 아깝다, 욕, 이응경, 길용우, 생활, 년, 정말, 발, 해도, 그것...\n",
       "8   7156791      1                     [액션, 없는데도, 재미, 있는, 몇, 안되는, 영화]\n",
       "9   5912145      1           [왜케, 평점, 낮은건데, 꽤, 볼, 데, 헐리우드, 화려함에만, 있나]"
      ]
     },
     "execution_count": 14,
     "metadata": {},
     "output_type": "execute_result"
    }
   ],
   "source": [
    "data['tokens'] = data['document'].apply(lambda x: process_tokens(x))\n",
    "# data['tokens'] = data.apply(lambda row: process_tokens(row['document']), axis=1)\n",
    "data = data.drop('document', axis=1) # drop의 기능 확인\n",
    "\n",
    "data"
   ]
  },
  {
   "cell_type": "markdown",
   "metadata": {},
   "source": [
    "\n",
    "# 임베딩\n",
    "- gensim 패키지 설치(pip install gensim)\n",
    "- Word2Vec, FastText 객체 생성"
   ]
  },
  {
   "cell_type": "code",
   "execution_count": 15,
   "metadata": {},
   "outputs": [],
   "source": [
    "# library : gensim\n",
    "from gensim.models import Word2Vec, FastText\n",
    "\n",
    "tokenized_data = data['tokens']\n",
    "\n",
    "# train word2vec model\n",
    "wvmodel = Word2Vec(\n",
    "    sentences = tokenized_data,\n",
    "    vector_size = 2,\n",
    "    min_count = 1,\n",
    "    window = 5,\n",
    "    sg = 1\n",
    ")\n",
    "\n",
    "# FastText 임베딩\n",
    "ftmodel = FastText(\n",
    "    sentences=tokenized_data,\n",
    "    vector_size=2,\n",
    "    min_count=1,\n",
    "    window=5,\n",
    "    sg=1\n",
    ")"
   ]
  },
  {
   "cell_type": "markdown",
   "metadata": {},
   "source": [
    "# 유사도 검색"
   ]
  },
  {
   "cell_type": "code",
   "execution_count": 16,
   "metadata": {},
   "outputs": [
    {
     "name": "stdout",
     "output_type": "stream",
     "text": [
      "['더빙', '진짜', '짜증나네요', '목소리']\n",
      "word2vec: 더빙 [-0.00974282  0.17400204] [('가볍지', 0.9946810007095337), ('이야기', 0.994314968585968), ('원작', 0.9808803200721741)]\n",
      "fasttext: 더빙 [-0.05973839 -0.03152505] [('던스트', 0.9999072551727295), ('화려함에만', 0.9995203018188477), ('있는', 0.9978805184364319)]\n",
      "\n",
      "\n",
      "word2vec: 진짜 [0.24927534 0.46211368] [('연기', 0.9997234344482422), ('감금', 0.9989298582077026), ('밓었', 0.996440052986145)]\n",
      "fasttext: 진짜 [0.18167806 0.34088123] [('납치', 0.9999974370002747), ('액션', 0.9994968771934509), ('래서', 0.998386800289154)]\n",
      "\n",
      "\n",
      "word2vec: 짜증나네요 [-0.4062044   0.22522794] [('구먼', 0.9996954798698425), ('영화', 0.9992628693580627), ('안되는', 0.9945798516273499)]\n",
      "fasttext: 짜증나네요 [-0.07428907 -0.11761305] [('정말', 0.9993209838867188), ('안되는', 0.9935410618782043), ('스파이더맨', 0.9721710681915283)]\n",
      "\n",
      "\n",
      "word2vec: 목소리 [-0.20603311  0.04192438] [('줄', 0.9999739527702332), ('드라마', 0.9911259412765503), ('안되는', 0.9797953963279724)]\n",
      "fasttext: 목소리 [-0.00038061  0.15203878] [('보고', 0.99619460105896), ('가볍지', 0.9898684024810791), ('무재', 0.9897528290748596)]\n",
      "\n",
      "\n"
     ]
    }
   ],
   "source": [
    "# 가장 유사한 벡터 찾기\n",
    "for tokens in tokenized_data:\n",
    "    print(tokens)\n",
    "    \n",
    "    for token in tokens:\n",
    "        print('word2vec:', token, wvmodel.wv[token], wvmodel.wv.most_similar(token, topn=3))\n",
    "        print('fasttext:', token, ftmodel.wv[token], ftmodel.wv.most_similar(token, topn=3))\n",
    "        print('\\n')\n",
    "        \n",
    "    break"
   ]
  },
  {
   "cell_type": "markdown",
   "metadata": {},
   "source": [
    "# Word2Vec vs. FastText\n",
    "- OOV(Out of Vocabulary) 현상"
   ]
  },
  {
   "cell_type": "code",
   "execution_count": 23,
   "metadata": {},
   "outputs": [
    {
     "name": "stdout",
     "output_type": "stream",
     "text": [
      "token: ['목소리'] Word2Vec: [('줄', 0.9999739527702332), ('드라마', 0.9911259412765503), ('안되는', 0.9797953963279724)]\n"
     ]
    }
   ],
   "source": [
    "# word2vec\n",
    " \n",
    "sample_token = ['목소리']\n",
    "try:\n",
    "    print('token:', sample_token, 'Word2Vec:', wvmodel.wv.most_similar(sample_token, topn=3))\n",
    "except KeyError as e:\n",
    "    print('Word2Vec: error handling ', e)\n",
    "    "
   ]
  },
  {
   "cell_type": "code",
   "execution_count": 24,
   "metadata": {},
   "outputs": [
    {
     "name": "stdout",
     "output_type": "stream",
     "text": [
      "token: ['목소리'] FastText: [('보고', 0.99619460105896), ('가볍지', 0.9898684024810791), ('무재', 0.9897528290748596)]\n"
     ]
    }
   ],
   "source": [
    "# FastText\n",
    "\n",
    "try:\n",
    "    print('token:', sample_token, 'FastText:', ftmodel.wv.most_similar(sample_token, topn=3))\n",
    "except KeyError as e:\n",
    "    print('FastText: error handling ', e)"
   ]
  }
 ],
 "metadata": {
  "kernelspec": {
   "display_name": "kclass",
   "language": "python",
   "name": "python3"
  },
  "language_info": {
   "codemirror_mode": {
    "name": "ipython",
    "version": 3
   },
   "file_extension": ".py",
   "mimetype": "text/x-python",
   "name": "python",
   "nbconvert_exporter": "python",
   "pygments_lexer": "ipython3",
   "version": "3.10.10"
  }
 },
 "nbformat": 4,
 "nbformat_minor": 2
}
