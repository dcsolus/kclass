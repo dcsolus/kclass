{
 "cells": [
  {
   "cell_type": "markdown",
   "metadata": {},
   "source": [
    "# 필수 라이브러리 설치\n",
    "\n",
    "아래 라이브러리를 <u>반드시 설치</u>하고 시험을 치릅니다.<br>\n",
    "**gensim** 과 **numpy**의 버전 호환성 문제로 triu from 'scipy.linag' 오류가 날 수 있으니,<br>\n",
    "requirements.txt에 있는 라이브러리만 설치합니다.\n",
    "\n",
    "- pip install -r requirements.txt"
   ]
  },
  {
   "cell_type": "markdown",
   "metadata": {},
   "source": [
    "![image.png](questions/Q1.png)"
   ]
  },
  {
   "cell_type": "code",
   "execution_count": 4,
   "metadata": {},
   "outputs": [],
   "source": [
    "# 이곳에 코드를 작성하시오\n",
    "from konlpy.tag import Okt\n",
    "\n",
    "corpus = ''\n",
    "with open('sample_corpus_hangul.txt', 'r', encoding='utf-8') as f:\n",
    "    for line in f:\n",
    "        corpus += line.strip()"
   ]
  },
  {
   "cell_type": "code",
   "execution_count": 6,
   "metadata": {},
   "outputs": [
    {
     "name": "stdout",
     "output_type": "stream",
     "text": [
      "['나랏말', '이', '중국', '과', '달라', '한자', '와', '서로', '통', '하지', '아니하므로', '우매', '한', '백성', '들', '이', '말', '하고', '싶은', '것', '이', '있어도', '마침내', '제', '뜻', '을', '잘', '표현', '하지', '못', '하는', '사람', '이', '많다', '.', '내', '이를', '딱하게', '여기어', '새로', '스물', '여덟', '자를', '만들었으니', '사람', '들', '로', '하여금', '쉬', '익히어', '날', '마다', '쓰는', '데', '편하게', '할', '뿐', '이다']\n",
      "토큰 전체 개수: 58\n"
     ]
    }
   ],
   "source": [
    "# 1-1 \n",
    "okt = Okt()\n",
    "tokens_list = okt.morphs(corpus)\n",
    "print(tokens_list)\n",
    "\n",
    "# 1-2\n",
    "print('토큰 전체 개수:', len(tokens_list))"
   ]
  },
  {
   "cell_type": "markdown",
   "metadata": {},
   "source": [
    "![image.png](questions/Q2.png)"
   ]
  },
  {
   "cell_type": "code",
   "execution_count": 8,
   "metadata": {},
   "outputs": [
    {
     "name": "stdout",
     "output_type": "stream",
     "text": [
      "['코로나 거리두기와 코로나 상생지원금 문의입니다.', '지하철 운행시간과 지하철 요금 문의입니다.', '지하철 승강장 문의입니다.', '코로나 선별진료소 문의입니다.', '버스 운행시간 문의입니다.', '버스 터미널 위치 안내입니다.', '코로나 거리두기 안내입니다.', '택시 승강장 문의입니다.']\n"
     ]
    }
   ],
   "source": [
    "# 2\n",
    "from sklearn.feature_extraction.text import TfidfVectorizer\n",
    "import pandas as pd\n",
    "\n",
    "corpus = []\n",
    "with open('sample_corpus.txt', 'r', encoding='utf-8') as f:\n",
    "    for line in f:\n",
    "        corpus.append(line.strip())\n",
    "print(corpus)"
   ]
  },
  {
   "cell_type": "code",
   "execution_count": 9,
   "metadata": {},
   "outputs": [
    {
     "data": {
      "text/html": [
       "<div>\n",
       "<style scoped>\n",
       "    .dataframe tbody tr th:only-of-type {\n",
       "        vertical-align: middle;\n",
       "    }\n",
       "\n",
       "    .dataframe tbody tr th {\n",
       "        vertical-align: top;\n",
       "    }\n",
       "\n",
       "    .dataframe thead th {\n",
       "        text-align: right;\n",
       "    }\n",
       "</style>\n",
       "<table border=\"1\" class=\"dataframe\">\n",
       "  <thead>\n",
       "    <tr style=\"text-align: right;\">\n",
       "      <th></th>\n",
       "      <th>문의입니다</th>\n",
       "      <th>버스</th>\n",
       "      <th>승강장</th>\n",
       "      <th>지하철</th>\n",
       "      <th>코로나</th>\n",
       "    </tr>\n",
       "  </thead>\n",
       "  <tbody>\n",
       "    <tr>\n",
       "      <th>0</th>\n",
       "      <td>0.326550</td>\n",
       "      <td>0.000000</td>\n",
       "      <td>0.000000</td>\n",
       "      <td>0.000000</td>\n",
       "      <td>0.945180</td>\n",
       "    </tr>\n",
       "    <tr>\n",
       "      <th>1</th>\n",
       "      <td>0.285703</td>\n",
       "      <td>0.000000</td>\n",
       "      <td>0.000000</td>\n",
       "      <td>0.958318</td>\n",
       "      <td>0.000000</td>\n",
       "    </tr>\n",
       "    <tr>\n",
       "      <th>2</th>\n",
       "      <td>0.388500</td>\n",
       "      <td>0.000000</td>\n",
       "      <td>0.651563</td>\n",
       "      <td>0.651563</td>\n",
       "      <td>0.000000</td>\n",
       "    </tr>\n",
       "    <tr>\n",
       "      <th>3</th>\n",
       "      <td>0.568471</td>\n",
       "      <td>0.000000</td>\n",
       "      <td>0.000000</td>\n",
       "      <td>0.000000</td>\n",
       "      <td>0.822704</td>\n",
       "    </tr>\n",
       "    <tr>\n",
       "      <th>4</th>\n",
       "      <td>0.512131</td>\n",
       "      <td>0.858908</td>\n",
       "      <td>0.000000</td>\n",
       "      <td>0.000000</td>\n",
       "      <td>0.000000</td>\n",
       "    </tr>\n",
       "    <tr>\n",
       "      <th>5</th>\n",
       "      <td>0.000000</td>\n",
       "      <td>1.000000</td>\n",
       "      <td>0.000000</td>\n",
       "      <td>0.000000</td>\n",
       "      <td>0.000000</td>\n",
       "    </tr>\n",
       "    <tr>\n",
       "      <th>6</th>\n",
       "      <td>0.000000</td>\n",
       "      <td>0.000000</td>\n",
       "      <td>0.000000</td>\n",
       "      <td>0.000000</td>\n",
       "      <td>1.000000</td>\n",
       "    </tr>\n",
       "    <tr>\n",
       "      <th>7</th>\n",
       "      <td>0.512131</td>\n",
       "      <td>0.000000</td>\n",
       "      <td>0.858908</td>\n",
       "      <td>0.000000</td>\n",
       "      <td>0.000000</td>\n",
       "    </tr>\n",
       "  </tbody>\n",
       "</table>\n",
       "</div>"
      ],
      "text/plain": [
       "      문의입니다        버스       승강장       지하철       코로나\n",
       "0  0.326550  0.000000  0.000000  0.000000  0.945180\n",
       "1  0.285703  0.000000  0.000000  0.958318  0.000000\n",
       "2  0.388500  0.000000  0.651563  0.651563  0.000000\n",
       "3  0.568471  0.000000  0.000000  0.000000  0.822704\n",
       "4  0.512131  0.858908  0.000000  0.000000  0.000000\n",
       "5  0.000000  1.000000  0.000000  0.000000  0.000000\n",
       "6  0.000000  0.000000  0.000000  0.000000  1.000000\n",
       "7  0.512131  0.000000  0.858908  0.000000  0.000000"
      ]
     },
     "execution_count": 9,
     "metadata": {},
     "output_type": "execute_result"
    }
   ],
   "source": [
    "tfidf = TfidfVectorizer(analyzer='word', max_features=5)\n",
    "results  = tfidf.fit_transform(corpus)\n",
    "\n",
    "vocab = tfidf.get_feature_names_out()\n",
    "pd.DataFrame(results.toarray(), columns=vocab)"
   ]
  },
  {
   "cell_type": "markdown",
   "metadata": {},
   "source": [
    "![image.png](questions/Q3.png)"
   ]
  },
  {
   "cell_type": "code",
   "execution_count": 11,
   "metadata": {},
   "outputs": [
    {
     "data": {
      "text/html": [
       "<div>\n",
       "<style scoped>\n",
       "    .dataframe tbody tr th:only-of-type {\n",
       "        vertical-align: middle;\n",
       "    }\n",
       "\n",
       "    .dataframe tbody tr th {\n",
       "        vertical-align: top;\n",
       "    }\n",
       "\n",
       "    .dataframe thead th {\n",
       "        text-align: right;\n",
       "    }\n",
       "</style>\n",
       "<table border=\"1\" class=\"dataframe\">\n",
       "  <thead>\n",
       "    <tr style=\"text-align: right;\">\n",
       "      <th></th>\n",
       "      <th>id</th>\n",
       "      <th>document</th>\n",
       "      <th>label</th>\n",
       "      <th>embedding</th>\n",
       "    </tr>\n",
       "  </thead>\n",
       "  <tbody>\n",
       "    <tr>\n",
       "      <th>0</th>\n",
       "      <td>9392240</td>\n",
       "      <td>진짜엄청재미없다 무서운장면은 딱한번나오고 그3초말고는 하나도안무섭고 지루하고 끝나고...</td>\n",
       "      <td>0</td>\n",
       "      <td>[진짜, 장면, 한번, 그, 하나, 귀신, 햇던]</td>\n",
       "    </tr>\n",
       "    <tr>\n",
       "      <th>1</th>\n",
       "      <td>10141935</td>\n",
       "      <td>너무 짜증나서, 끝은봐야해서 2배속빨리보기했다. 안본사람 호기심이라도 같지말길. 가...</td>\n",
       "      <td>0</td>\n",
       "      <td>[끝, 배속, 보기, 안, 사람, 호기심, 가치, 강비, 추]</td>\n",
       "    </tr>\n",
       "    <tr>\n",
       "      <th>2</th>\n",
       "      <td>9641183</td>\n",
       "      <td>설명은 줄이고 조율이 필요한 영화.</td>\n",
       "      <td>0</td>\n",
       "      <td>[설명, 줄, 조율, 영화]</td>\n",
       "    </tr>\n",
       "    <tr>\n",
       "      <th>3</th>\n",
       "      <td>10276386</td>\n",
       "      <td>이야~~~40만 넘었내..베테랑은 9백만 넘었는데...나 협심증 걸렸다</td>\n",
       "      <td>0</td>\n",
       "      <td>[베테, 백만, 나, 협심증]</td>\n",
       "    </tr>\n",
       "    <tr>\n",
       "      <th>4</th>\n",
       "      <td>4403898</td>\n",
       "      <td>전형적인 유치뽕짝 프랑스영화 새로운장르다 유치뽕짝</td>\n",
       "      <td>0</td>\n",
       "      <td>[전형, 유치, 뽕짝, 프랑스, 영화, 장르, 유치, 뽕짝]</td>\n",
       "    </tr>\n",
       "    <tr>\n",
       "      <th>...</th>\n",
       "      <td>...</td>\n",
       "      <td>...</td>\n",
       "      <td>...</td>\n",
       "      <td>...</td>\n",
       "    </tr>\n",
       "    <tr>\n",
       "      <th>95</th>\n",
       "      <td>6222902</td>\n",
       "      <td>인간이 문제지.. 소는 뭔죄인가..</td>\n",
       "      <td>0</td>\n",
       "      <td>[인간, 문제, 소, 죄인]</td>\n",
       "    </tr>\n",
       "    <tr>\n",
       "      <th>96</th>\n",
       "      <td>8549745</td>\n",
       "      <td>평점이 너무 낮아서...</td>\n",
       "      <td>1</td>\n",
       "      <td>[평점]</td>\n",
       "    </tr>\n",
       "    <tr>\n",
       "      <th>97</th>\n",
       "      <td>9311800</td>\n",
       "      <td>이게 뭐요? 한국인은 거들먹거리고 필리핀 혼혈은 착하다?</td>\n",
       "      <td>0</td>\n",
       "      <td>[이, 뭐, 한국인, 먹거리, 필리핀, 혼혈]</td>\n",
       "    </tr>\n",
       "    <tr>\n",
       "      <th>98</th>\n",
       "      <td>2376369</td>\n",
       "      <td>청춘 영화의 최고봉.방황과 우울했던 날들의 자화상</td>\n",
       "      <td>1</td>\n",
       "      <td>[청춘, 영화, 최고봉, 방황, 날, 자화상]</td>\n",
       "    </tr>\n",
       "    <tr>\n",
       "      <th>99</th>\n",
       "      <td>9619869</td>\n",
       "      <td>한국 영화 최초로 수간하는 내용이 담긴 영화</td>\n",
       "      <td>0</td>\n",
       "      <td>[한국, 영화, 최초, 수간, 내용, 영화]</td>\n",
       "    </tr>\n",
       "  </tbody>\n",
       "</table>\n",
       "<p>100 rows × 4 columns</p>\n",
       "</div>"
      ],
      "text/plain": [
       "          id                                           document  label  \\\n",
       "0    9392240  진짜엄청재미없다 무서운장면은 딱한번나오고 그3초말고는 하나도안무섭고 지루하고 끝나고...      0   \n",
       "1   10141935  너무 짜증나서, 끝은봐야해서 2배속빨리보기했다. 안본사람 호기심이라도 같지말길. 가...      0   \n",
       "2    9641183                                설명은 줄이고 조율이 필요한 영화.      0   \n",
       "3   10276386            이야~~~40만 넘었내..베테랑은 9백만 넘었는데...나 협심증 걸렸다      0   \n",
       "4    4403898                        전형적인 유치뽕짝 프랑스영화 새로운장르다 유치뽕짝      0   \n",
       "..       ...                                                ...    ...   \n",
       "95   6222902                                인간이 문제지.. 소는 뭔죄인가..      0   \n",
       "96   8549745                                      평점이 너무 낮아서...      1   \n",
       "97   9311800                    이게 뭐요? 한국인은 거들먹거리고 필리핀 혼혈은 착하다?      0   \n",
       "98   2376369                        청춘 영화의 최고봉.방황과 우울했던 날들의 자화상      1   \n",
       "99   9619869                           한국 영화 최초로 수간하는 내용이 담긴 영화      0   \n",
       "\n",
       "                             embedding  \n",
       "0          [진짜, 장면, 한번, 그, 하나, 귀신, 햇던]  \n",
       "1   [끝, 배속, 보기, 안, 사람, 호기심, 가치, 강비, 추]  \n",
       "2                      [설명, 줄, 조율, 영화]  \n",
       "3                     [베테, 백만, 나, 협심증]  \n",
       "4    [전형, 유치, 뽕짝, 프랑스, 영화, 장르, 유치, 뽕짝]  \n",
       "..                                 ...  \n",
       "95                     [인간, 문제, 소, 죄인]  \n",
       "96                                [평점]  \n",
       "97           [이, 뭐, 한국인, 먹거리, 필리핀, 혼혈]  \n",
       "98           [청춘, 영화, 최고봉, 방황, 날, 자화상]  \n",
       "99            [한국, 영화, 최초, 수간, 내용, 영화]  \n",
       "\n",
       "[100 rows x 4 columns]"
      ]
     },
     "execution_count": 11,
     "metadata": {},
     "output_type": "execute_result"
    }
   ],
   "source": [
    "# 3\n",
    "df = pd.read_csv('ratings_train.txt', sep='\\t').tail(100).reset_index(drop=True)\n",
    "\n",
    "okt = Okt()\n",
    "df['embedding'] = df['document'].apply(okt.nouns)\n",
    "df"
   ]
  },
  {
   "cell_type": "markdown",
   "metadata": {},
   "source": [
    "![image.png](questions/Q4.png)"
   ]
  },
  {
   "cell_type": "code",
   "execution_count": 12,
   "metadata": {},
   "outputs": [],
   "source": [
    "# 4\n",
    "from gensim.models import Word2Vec\n",
    "import numpy as np\n",
    "\n",
    "w2v = Word2Vec(sentences=df['embedding'], \n",
    "               vector_size=10, \n",
    "               min_count=1, \n",
    "               window=5, \n",
    "               sg=1)"
   ]
  },
  {
   "cell_type": "code",
   "execution_count": 13,
   "metadata": {},
   "outputs": [
    {
     "data": {
      "text/html": [
       "<div>\n",
       "<style scoped>\n",
       "    .dataframe tbody tr th:only-of-type {\n",
       "        vertical-align: middle;\n",
       "    }\n",
       "\n",
       "    .dataframe tbody tr th {\n",
       "        vertical-align: top;\n",
       "    }\n",
       "\n",
       "    .dataframe thead th {\n",
       "        text-align: right;\n",
       "    }\n",
       "</style>\n",
       "<table border=\"1\" class=\"dataframe\">\n",
       "  <thead>\n",
       "    <tr style=\"text-align: right;\">\n",
       "      <th></th>\n",
       "      <th>id</th>\n",
       "      <th>document</th>\n",
       "      <th>label</th>\n",
       "      <th>embedding</th>\n",
       "    </tr>\n",
       "  </thead>\n",
       "  <tbody>\n",
       "    <tr>\n",
       "      <th>0</th>\n",
       "      <td>9392240</td>\n",
       "      <td>진짜엄청재미없다 무서운장면은 딱한번나오고 그3초말고는 하나도안무섭고 지루하고 끝나고...</td>\n",
       "      <td>0</td>\n",
       "      <td>[[0.07557218, -0.019882103, -0.041863266, 0.06...</td>\n",
       "    </tr>\n",
       "    <tr>\n",
       "      <th>1</th>\n",
       "      <td>10141935</td>\n",
       "      <td>너무 짜증나서, 끝은봐야해서 2배속빨리보기했다. 안본사람 호기심이라도 같지말길. 가...</td>\n",
       "      <td>0</td>\n",
       "      <td>[[-0.07131933, 0.011671868, -0.07060782, -0.02...</td>\n",
       "    </tr>\n",
       "    <tr>\n",
       "      <th>2</th>\n",
       "      <td>9641183</td>\n",
       "      <td>설명은 줄이고 조율이 필요한 영화.</td>\n",
       "      <td>0</td>\n",
       "      <td>[[0.056597356, 0.05424719, 0.01937596, 0.05803...</td>\n",
       "    </tr>\n",
       "    <tr>\n",
       "      <th>3</th>\n",
       "      <td>10276386</td>\n",
       "      <td>이야~~~40만 넘었내..베테랑은 9백만 넘었는데...나 협심증 걸렸다</td>\n",
       "      <td>0</td>\n",
       "      <td>[[-0.044348698, -0.06259152, 0.09554746, -0.02...</td>\n",
       "    </tr>\n",
       "    <tr>\n",
       "      <th>4</th>\n",
       "      <td>4403898</td>\n",
       "      <td>전형적인 유치뽕짝 프랑스영화 새로운장르다 유치뽕짝</td>\n",
       "      <td>0</td>\n",
       "      <td>[[-0.08403921, -0.015367781, -0.025305228, 0.0...</td>\n",
       "    </tr>\n",
       "    <tr>\n",
       "      <th>...</th>\n",
       "      <td>...</td>\n",
       "      <td>...</td>\n",
       "      <td>...</td>\n",
       "      <td>...</td>\n",
       "    </tr>\n",
       "    <tr>\n",
       "      <th>95</th>\n",
       "      <td>6222902</td>\n",
       "      <td>인간이 문제지.. 소는 뭔죄인가..</td>\n",
       "      <td>0</td>\n",
       "      <td>[[0.006857192, -0.09226321, -0.09485956, -0.07...</td>\n",
       "    </tr>\n",
       "    <tr>\n",
       "      <th>96</th>\n",
       "      <td>8549745</td>\n",
       "      <td>평점이 너무 낮아서...</td>\n",
       "      <td>1</td>\n",
       "      <td>[[-0.072861925, -0.01454594, 0.102436885, -0.0...</td>\n",
       "    </tr>\n",
       "    <tr>\n",
       "      <th>97</th>\n",
       "      <td>9311800</td>\n",
       "      <td>이게 뭐요? 한국인은 거들먹거리고 필리핀 혼혈은 착하다?</td>\n",
       "      <td>0</td>\n",
       "      <td>[[0.054196857, 0.081992336, -0.01440321, -0.09...</td>\n",
       "    </tr>\n",
       "    <tr>\n",
       "      <th>98</th>\n",
       "      <td>2376369</td>\n",
       "      <td>청춘 영화의 최고봉.방황과 우울했던 날들의 자화상</td>\n",
       "      <td>1</td>\n",
       "      <td>[[-0.051638637, -0.075929135, -0.027410807, -0...</td>\n",
       "    </tr>\n",
       "    <tr>\n",
       "      <th>99</th>\n",
       "      <td>9619869</td>\n",
       "      <td>한국 영화 최초로 수간하는 내용이 담긴 영화</td>\n",
       "      <td>0</td>\n",
       "      <td>[[-0.084461294, 0.030902827, 0.058976606, 0.05...</td>\n",
       "    </tr>\n",
       "  </tbody>\n",
       "</table>\n",
       "<p>100 rows × 4 columns</p>\n",
       "</div>"
      ],
      "text/plain": [
       "          id                                           document  label  \\\n",
       "0    9392240  진짜엄청재미없다 무서운장면은 딱한번나오고 그3초말고는 하나도안무섭고 지루하고 끝나고...      0   \n",
       "1   10141935  너무 짜증나서, 끝은봐야해서 2배속빨리보기했다. 안본사람 호기심이라도 같지말길. 가...      0   \n",
       "2    9641183                                설명은 줄이고 조율이 필요한 영화.      0   \n",
       "3   10276386            이야~~~40만 넘었내..베테랑은 9백만 넘었는데...나 협심증 걸렸다      0   \n",
       "4    4403898                        전형적인 유치뽕짝 프랑스영화 새로운장르다 유치뽕짝      0   \n",
       "..       ...                                                ...    ...   \n",
       "95   6222902                                인간이 문제지.. 소는 뭔죄인가..      0   \n",
       "96   8549745                                      평점이 너무 낮아서...      1   \n",
       "97   9311800                    이게 뭐요? 한국인은 거들먹거리고 필리핀 혼혈은 착하다?      0   \n",
       "98   2376369                        청춘 영화의 최고봉.방황과 우울했던 날들의 자화상      1   \n",
       "99   9619869                           한국 영화 최초로 수간하는 내용이 담긴 영화      0   \n",
       "\n",
       "                                            embedding  \n",
       "0   [[0.07557218, -0.019882103, -0.041863266, 0.06...  \n",
       "1   [[-0.07131933, 0.011671868, -0.07060782, -0.02...  \n",
       "2   [[0.056597356, 0.05424719, 0.01937596, 0.05803...  \n",
       "3   [[-0.044348698, -0.06259152, 0.09554746, -0.02...  \n",
       "4   [[-0.08403921, -0.015367781, -0.025305228, 0.0...  \n",
       "..                                                ...  \n",
       "95  [[0.006857192, -0.09226321, -0.09485956, -0.07...  \n",
       "96  [[-0.072861925, -0.01454594, 0.102436885, -0.0...  \n",
       "97  [[0.054196857, 0.081992336, -0.01440321, -0.09...  \n",
       "98  [[-0.051638637, -0.075929135, -0.027410807, -0...  \n",
       "99  [[-0.084461294, 0.030902827, 0.058976606, 0.05...  \n",
       "\n",
       "[100 rows x 4 columns]"
      ]
     },
     "execution_count": 13,
     "metadata": {},
     "output_type": "execute_result"
    }
   ],
   "source": [
    "embeddings_w2v = []\n",
    "\n",
    "for token_list in df['embedding']:\n",
    "    token_vectors = []\n",
    "    for token in token_list:\n",
    "        token_vectors.append(w2v.wv[token])\n",
    "    embeddings_w2v.append(np.array(token_vectors))\n",
    "\n",
    "df['embedding'] = embeddings_w2v\n",
    "df"
   ]
  },
  {
   "cell_type": "markdown",
   "metadata": {},
   "source": [
    "![image.png](questions/Q5.png)"
   ]
  },
  {
   "cell_type": "code",
   "execution_count": 14,
   "metadata": {},
   "outputs": [
    {
     "name": "stdout",
     "output_type": "stream",
     "text": [
      "['H', 'e', 'l', 'l', 'o', ' ', 'W', 'o', 'r', 'l', 'd', ' ', '2', '0', '2', 'Hello there']\n"
     ]
    }
   ],
   "source": [
    "# 5.1\n",
    "a = 'Hello World'\n",
    "print(list(a+' 202')+['Hello there'])"
   ]
  },
  {
   "cell_type": "code",
   "execution_count": 15,
   "metadata": {},
   "outputs": [
    {
     "name": "stdout",
     "output_type": "stream",
     "text": [
      "{'David': 25, 'Nami': 20, 'John': 28, 'Johnson': 21, 'Ethan': 30}\n"
     ]
    }
   ],
   "source": [
    "# 5.2\n",
    "d1 = {\"David\":25, 'Nami': 20, 'John':28}\n",
    "d2 = {'Johnson':21, 'Ethan':30}\n",
    "\n",
    "d1.update(d2)\n",
    "print(d1)"
   ]
  },
  {
   "cell_type": "markdown",
   "metadata": {},
   "source": [
    "![image.png](questions/Q6.png)"
   ]
  },
  {
   "cell_type": "code",
   "execution_count": 16,
   "metadata": {},
   "outputs": [
    {
     "data": {
      "text/plain": [
       "array([ 4,  8, 12, 16, 20])"
      ]
     },
     "execution_count": 16,
     "metadata": {},
     "output_type": "execute_result"
    }
   ],
   "source": [
    "# 6\n",
    "np.array([2,4,6,8,10])*2"
   ]
  },
  {
   "cell_type": "markdown",
   "metadata": {},
   "source": [
    "![image.png](questions/Q7.png)"
   ]
  },
  {
   "cell_type": "code",
   "execution_count": 17,
   "metadata": {},
   "outputs": [
    {
     "data": {
      "text/html": [
       "<div>\n",
       "<style scoped>\n",
       "    .dataframe tbody tr th:only-of-type {\n",
       "        vertical-align: middle;\n",
       "    }\n",
       "\n",
       "    .dataframe tbody tr th {\n",
       "        vertical-align: top;\n",
       "    }\n",
       "\n",
       "    .dataframe thead th {\n",
       "        text-align: right;\n",
       "    }\n",
       "</style>\n",
       "<table border=\"1\" class=\"dataframe\">\n",
       "  <thead>\n",
       "    <tr style=\"text-align: right;\">\n",
       "      <th></th>\n",
       "      <th>Age</th>\n",
       "      <th>Income</th>\n",
       "    </tr>\n",
       "    <tr>\n",
       "      <th>category</th>\n",
       "      <th></th>\n",
       "      <th></th>\n",
       "    </tr>\n",
       "  </thead>\n",
       "  <tbody>\n",
       "    <tr>\n",
       "      <th>A</th>\n",
       "      <td>36.5</td>\n",
       "      <td>65000.0</td>\n",
       "    </tr>\n",
       "    <tr>\n",
       "      <th>B</th>\n",
       "      <td>33.0</td>\n",
       "      <td>67500.0</td>\n",
       "    </tr>\n",
       "  </tbody>\n",
       "</table>\n",
       "</div>"
      ],
      "text/plain": [
       "           Age   Income\n",
       "category               \n",
       "A         36.5  65000.0\n",
       "B         33.0  67500.0"
      ]
     },
     "execution_count": 17,
     "metadata": {},
     "output_type": "execute_result"
    }
   ],
   "source": [
    "# 7\n",
    "df = pd.DataFrame(\n",
    "    {'category':['A','B','A','B'],\n",
    "    'Name':['John','Anna','Perter','Linda'],\n",
    "    'Age': [28, 34, 45, 32],\n",
    "    'Income': [50000, 60000, 80000, 75000]}\n",
    ")\n",
    "\n",
    "df.groupby('category')[['Age','Income']].mean()"
   ]
  },
  {
   "cell_type": "markdown",
   "metadata": {},
   "source": [
    "![image.png](questions/Q8.png)"
   ]
  },
  {
   "cell_type": "code",
   "execution_count": 18,
   "metadata": {},
   "outputs": [
    {
     "data": {
      "image/png": "[encoded data removed]",
      "text/plain": [
       "<Figure size 500x300 with 1 Axes>"
      ]
     },
     "metadata": {},
     "output_type": "display_data"
    }
   ],
   "source": [
    "# 8\n",
    "import matplotlib.pyplot as plt\n",
    "\n",
    "year = ['2021', '2022', '2023', '2024']\n",
    "income = [60000, 63000, 64000, 80000]\n",
    "\n",
    "plt.figure(figsize=[5,3])\n",
    "plt.plot(year, income, color='orange')\n",
    "plt.title('Yearly Income Change')\n",
    "plt.xlabel('year')\n",
    "plt.ylabel('income')\n",
    "plt.show()"
   ]
  }
 ],
 "metadata": {
  "kernelspec": {
   "display_name": "kclass",
   "language": "python",
   "name": "python3"
  },
  "language_info": {
   "codemirror_mode": {
    "name": "ipython",
    "version": 3
   },
   "file_extension": ".py",
   "mimetype": "text/x-python",
   "name": "python",
   "nbconvert_exporter": "python",
   "pygments_lexer": "ipython3",
   "version": "3.10.10"
  }
 },
 "nbformat": 4,
 "nbformat_minor": 2
}
