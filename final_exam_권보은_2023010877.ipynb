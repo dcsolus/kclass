{
 "cells": [
  {
   "cell_type": "markdown",
   "metadata": {},
   "source": [
    "# 필수 라이브러리 설치\n",
    "\n",
    "아래 라이브러리를 <u>반드시 설치</u>하고 시험을 치릅니다.<br>\n",
    "**gensim** 과 **numpy**의 버전 호환성 문제로 triu from 'scipy.linag' 오류가 날 수 있으니,<br>\n",
    "requirements.txt에 있는 라이브러리만 설치합니다.\n",
    "\n",
    "- pip install -r requirements.txt"
   ]
  },
  {
   "cell_type": "markdown",
   "metadata": {},
   "source": [
    "![image.png](questions/Q1.png)"
   ]
  },
  {
   "cell_type": "code",
   "execution_count": 1,
   "metadata": {},
   "outputs": [
    {
     "ename": "UnicodeDecodeError",
     "evalue": "'cp949' codec can't decode byte 0xeb in position 0: illegal multibyte sequence",
     "output_type": "error",
     "traceback": [
      "\u001b[1;31m---------------------------------------------------------------------------\u001b[0m",
      "\u001b[1;31mUnicodeDecodeError\u001b[0m                        Traceback (most recent call last)",
      "Cell \u001b[1;32mIn[1], line 6\u001b[0m\n\u001b[0;32m      3\u001b[0m \u001b[38;5;28;01mfrom\u001b[39;00m \u001b[38;5;21;01mkonlpy\u001b[39;00m\u001b[38;5;21;01m.\u001b[39;00m\u001b[38;5;21;01mtag\u001b[39;00m \u001b[38;5;28;01mimport\u001b[39;00m Okt\n\u001b[0;32m      4\u001b[0m result_f \u001b[38;5;241m=\u001b[39m \u001b[38;5;28mopen\u001b[39m(\u001b[38;5;124m\"\u001b[39m\u001b[38;5;124msample_corpus_hangul.txt\u001b[39m\u001b[38;5;124m\"\u001b[39m)   \u001b[38;5;66;03m# 파일 열기\u001b[39;00m\n\u001b[1;32m----> 6\u001b[0m \u001b[38;5;28;01mfor\u001b[39;00m line \u001b[38;5;129;01min\u001b[39;00m result_f:                                  \u001b[38;5;66;03m# 각 줄 내용 출력하기\u001b[39;00m\n\u001b[0;32m      7\u001b[0m     \u001b[38;5;28mprint\u001b[39m(line)\n\u001b[0;32m      9\u001b[0m okt \u001b[38;5;241m=\u001b[39m Okt()\n",
      "\u001b[1;31mUnicodeDecodeError\u001b[0m: 'cp949' codec can't decode byte 0xeb in position 0: illegal multibyte sequence"
     ]
    }
   ],
   "source": [
    "# 이곳에 코드를 작성하시오\n",
    "\n",
    "from konlpy.tag import Okt\n",
    "result_f = open(\"sample_corpus_hangul.txt\")   # 파일 열기\n",
    "\n",
    "for line in result_f:                                  # 각 줄 내용 출력하기\n",
    "    print(line)\n",
    "\n",
    "okt = Okt()\n",
    "\n",
    "\n",
    "print(okt.morphs(\"result_f\"))\n"
   ]
  },
  {
   "cell_type": "markdown",
   "metadata": {},
   "source": [
    "![image.png](questions/Q2.png)"
   ]
  },
  {
   "cell_type": "code",
   "execution_count": 2,
   "metadata": {},
   "outputs": [
    {
     "ename": "NameError",
     "evalue": "name 'sampe_corpus' is not defined",
     "output_type": "error",
     "traceback": [
      "\u001b[1;31m---------------------------------------------------------------------------\u001b[0m",
      "\u001b[1;31mNameError\u001b[0m                                 Traceback (most recent call last)",
      "Cell \u001b[1;32mIn[2], line 3\u001b[0m\n\u001b[0;32m      1\u001b[0m \u001b[38;5;28;01mfrom\u001b[39;00m \u001b[38;5;21;01msklearn\u001b[39;00m\u001b[38;5;21;01m.\u001b[39;00m\u001b[38;5;21;01mfeature_extraction\u001b[39;00m\u001b[38;5;21;01m.\u001b[39;00m\u001b[38;5;21;01mtext\u001b[39;00m \u001b[38;5;28;01mimport\u001b[39;00m TfidfVectorizer\n\u001b[1;32m----> 3\u001b[0m \u001b[43msampe_corpus\u001b[49m\u001b[38;5;241m.\u001b[39mtxt \u001b[38;5;241m=\u001b[39m \u001b[38;5;28mopen\u001b[39m(\u001b[38;5;124m'\u001b[39m\u001b[38;5;124msample_corpus.txt\u001b[39m\u001b[38;5;124m'\u001b[39m, \u001b[38;5;124m'\u001b[39m\u001b[38;5;124mr\u001b[39m\u001b[38;5;124m'\u001b[39m)\n\u001b[0;32m      4\u001b[0m (sample_corpus\u001b[38;5;241m.\u001b[39mtxt)\u001b[38;5;241m.\u001b[39mreadline()\n\u001b[0;32m      5\u001b[0m \u001b[38;5;28;01mimport\u001b[39;00m \u001b[38;5;21;01mpandas\u001b[39;00m \u001b[38;5;28;01mas\u001b[39;00m \u001b[38;5;21;01mpd\u001b[39;00m\n",
      "\u001b[1;31mNameError\u001b[0m: name 'sampe_corpus' is not defined"
     ]
    }
   ],
   "source": [
    "from sklearn.feature_extraction.text import TfidfVectorizer\n",
    "\n",
    "sampe_corpus.txt = open('sample_corpus.txt', 'r')\n",
    "(sample_corpus.txt).readline()\n",
    "import pandas as pd\n",
    "df =pd.DataFrame(None, columns=['noun'])\n",
    "noun_top = 5"
   ]
  },
  {
   "cell_type": "markdown",
   "metadata": {},
   "source": [
    "![image.png](questions/Q3.png)"
   ]
  },
  {
   "cell_type": "code",
   "execution_count": 3,
   "metadata": {},
   "outputs": [
    {
     "ename": "SyntaxError",
     "evalue": "cannot assign to expression here. Maybe you meant '==' instead of '='? (920833379.py, line 13)",
     "output_type": "error",
     "traceback": [
      "\u001b[1;36m  Cell \u001b[1;32mIn[3], line 13\u001b[1;36m\u001b[0m\n\u001b[1;33m    final-exam = pd.read_\u001b[0m\n\u001b[1;37m    ^\u001b[0m\n\u001b[1;31mSyntaxError\u001b[0m\u001b[1;31m:\u001b[0m cannot assign to expression here. Maybe you meant '==' instead of '='?\n"
     ]
    }
   ],
   "source": [
    "# 이곳에 코드를 작성하시오\n",
    "from konlpy.tag import Okt\n",
    "def extractKeywords(okt,text):\n",
    "    noun = []\n",
    "    for word, pos in okt.pos(text, stem=True):\n",
    "        if pos == 'Noun':\n",
    "            noun.append(word)\n",
    "            \n",
    "okt = Okt()\n",
    "df = pd.DataFrame(None, columns=['noun']) \n",
    "df.loc[0] = [1,2,3,4]\n",
    "import pandas as pd\n",
    "final-exam = pd.read_\n",
    "okt = Okt()\n",
    "df =pd.DataFrame(None, columns=['noun'])\n",
    "Okt.pos()"
   ]
  },
  {
   "cell_type": "markdown",
   "metadata": {},
   "source": [
    "![image.png](questions/Q4.png)"
   ]
  },
  {
   "cell_type": "code",
   "execution_count": null,
   "metadata": {},
   "outputs": [],
   "source": [
    "# 이곳에 코드를 작성하시오."
   ]
  },
  {
   "cell_type": "markdown",
   "metadata": {},
   "source": [
    "![image.png](questions/Q5.png)"
   ]
  },
  {
   "cell_type": "code",
   "execution_count": null,
   "metadata": {},
   "outputs": [],
   "source": [
    "# 이곳에 코드를 작성하시오"
   ]
  },
  {
   "cell_type": "markdown",
   "metadata": {},
   "source": [
    "![image.png](questions/Q6.png)"
   ]
  },
  {
   "cell_type": "code",
   "execution_count": 4,
   "metadata": {},
   "outputs": [
    {
     "name": "stdout",
     "output_type": "stream",
     "text": [
      "스칼라 곱 결과: [ 4  8 12 16 20]\n"
     ]
    }
   ],
   "source": [
    "# 이곳에 코드를 작성하시오 \n",
    "import numpy as np\n",
    "\n",
    "u = np.array([2,4,6,8,10])\n",
    "scalar = 2\n",
    "scalar_result = scalar * u\n",
    "print(\"스칼라 곱 결과:\", scalar_result)"
   ]
  },
  {
   "cell_type": "markdown",
   "metadata": {},
   "source": [
    "![image.png](questions/Q7.png)"
   ]
  },
  {
   "cell_type": "code",
   "execution_count": 6,
   "metadata": {},
   "outputs": [
    {
     "name": "stdout",
     "output_type": "stream",
     "text": [
      "     name  Age  Income\n",
      "0    John   28   50000\n",
      "1    Anna   34   60000\n",
      "2  Perter   45   80000\n",
      "3   Linda   32   75000\n",
      "34.75\n",
      "66250.0\n"
     ]
    }
   ],
   "source": [
    "# 이곳에 코드를 작성하시오.\n",
    "import pandas as pd\n",
    "data = {\n",
    "    \"name\": [ \"John\", \"Anna\", \"Perter\", \"Linda\"],\n",
    "    \"Age\": [28, 34, 45, 32],\n",
    "    \"Income\": [50000, 60000, 80000, 75000],\n",
    "    }\n",
    "df = pd.DataFrame(data)\n",
    "print(df)\n",
    "mean_df = df[\"Age\"].mean()\n",
    "print(mean_df)\n",
    "mean_df1 = df[\"Income\"].mean()\n",
    "print(mean_df1)"
   ]
  },
  {
   "cell_type": "markdown",
   "metadata": {},
   "source": [
    "![image.png](questions/Q8.png)"
   ]
  },
  {
   "cell_type": "code",
   "execution_count": 7,
   "metadata": {},
   "outputs": [
    {
     "data": {
      "image/png": "[encoded data removed]",
      "text/plain": [
       "<Figure size 640x480 with 1 Axes>"
      ]
     },
     "metadata": {},
     "output_type": "display_data"
    },
    {
     "data": {
      "image/png": "[encoded data removed]",
      "text/plain": [
       "<Figure size 500x300 with 1 Axes>"
      ]
     },
     "metadata": {},
     "output_type": "display_data"
    }
   ],
   "source": [
    "# 이곳에 코드를 작성하시오\n",
    "\n",
    "import matplotlib.pyplot as plt\n",
    "df1=pd.DataFrame({'X': [2021, 2022, 2023, 2024], 'Y': [60000, 63000, 64000, 80000]})\n",
    "plt.plot(df1['X'], df1['Y'], color= 'orange', linestyle='-', marker= 'o')\n",
    "plt.figure(figsize=(5,3))\n",
    "plt.xlabel('year')\n",
    "plt.ylabel('income')\n",
    "plt.title(\"Yearly Income Change\")\n",
    "plt.show()\n",
    "\n"
   ]
  }
 ],
 "metadata": {
  "kernelspec": {
   "display_name": "kclass",
   "language": "python",
   "name": "python3"
  },
  "language_info": {
   "codemirror_mode": {
    "name": "ipython",
    "version": 3
   },
   "file_extension": ".py",
   "mimetype": "text/x-python",
   "name": "python",
   "nbconvert_exporter": "python",
   "pygments_lexer": "ipython3",
   "version": "3.10.10"
  }
 },
 "nbformat": 4,
 "nbformat_minor": 2
}
