{
 "cells": [
  {
   "cell_type": "markdown",
   "metadata": {},
   "source": [
    "# Operator\n",
    "- arithmetic operators\n",
    "- comparison operators\n",
    "- logical operators\n",
    "- assignment operators\n",
    "- membership & identiry operators\n",
    "- bitwise operators(pass)\n",
    "\n",
    "![image.png](imgs/operators.png)"
   ]
  },
  {
   "cell_type": "code",
   "execution_count": 19,
   "metadata": {},
   "outputs": [
    {
     "name": "stdout",
     "output_type": "stream",
     "text": [
      "True\n"
     ]
    }
   ],
   "source": [
    "a:int = 10\n",
    "b:int = 12\n",
    "\n",
    "print((a != b or a == b) and (a*b>20))\n",
    "\n",
    "# print(type(b))\n",
    "# b % a #나머지\n",
    "# b//a # 몫"
   ]
  },
  {
   "cell_type": "code",
   "execution_count": 11,
   "metadata": {},
   "outputs": [
    {
     "name": "stdout",
     "output_type": "stream",
     "text": [
      "e\n",
      " \n",
      "l\n"
     ]
    }
   ],
   "source": [
    "a = list(\"Hello world\")\n",
    "\n",
    "for idx, i in enumerate(a):\n",
    "    if idx % 4 == 1:\n",
    "        print(i)"
   ]
  },
  {
   "cell_type": "markdown",
   "metadata": {},
   "source": [
    "# Conditional Statment\n",
    "- if else\n",
    "- nested if else\n",
    "- if elif else\n",
    "- if else on one line\n",
    "- match case"
   ]
  },
  {
   "cell_type": "code",
   "execution_count": 30,
   "metadata": {},
   "outputs": [
    {
     "name": "stdout",
     "output_type": "stream",
     "text": [
      "done!\n"
     ]
    }
   ],
   "source": [
    "a = 2\n",
    "b = 3\n",
    "\n",
    "if a*b > 6:\n",
    "    if a*b == 6:\n",
    "        print('muliply:', 6)\n",
    "    else:\n",
    "        print(a)\n",
    "elif a*b == 5:\n",
    "    print(b)\n",
    "\n",
    "elif a<5:\n",
    "    if b >3:\n",
    "        pass\n",
    "    else:\n",
    "        pass\n",
    "    pass\n",
    "else:\n",
    "    pass\n",
    "    \n",
    "    \n",
    "# print std\n",
    "print('done!')"
   ]
  },
  {
   "cell_type": "code",
   "execution_count": 34,
   "metadata": {},
   "outputs": [
    {
     "name": "stdout",
     "output_type": "stream",
     "text": [
      "59049\n",
      "59049\n"
     ]
    }
   ],
   "source": [
    "a = 3\n",
    "b = 2\n",
    "\n",
    "if a*b > 5:\n",
    "    c = 3**10\n",
    "    print(c)\n",
    "\n",
    "c = 3**10 if a*b>5 else 2**10 # must be if else\n",
    "print(c)\n"
   ]
  },
  {
   "cell_type": "code",
   "execution_count": 35,
   "metadata": {},
   "outputs": [],
   "source": [
    "match a*b:\n",
    "    case 6:\n",
    "        pass\n",
    "    case 7:\n",
    "        pass\n",
    "    case 8:\n",
    "        pass\n",
    "    case _:\n",
    "        pass"
   ]
  },
  {
   "cell_type": "markdown",
   "metadata": {},
   "source": [
    "# Loop\n",
    "- for\n",
    "- while\n",
    "- list comprehension\n",
    "- dictionary comprehension"
   ]
  },
  {
   "cell_type": "code",
   "execution_count": 41,
   "metadata": {},
   "outputs": [
    {
     "name": "stdout",
     "output_type": "stream",
     "text": [
      "11\n",
      "1\n",
      "2\n",
      "3\n",
      "4\n",
      "5\n",
      "6\n"
     ]
    }
   ],
   "source": [
    "a = 'hello world'\n",
    "print(len(a))\n",
    "\n",
    "a = 0\n",
    "while a<=5:\n",
    "    a +=1\n",
    "    print(a)\n"
   ]
  },
  {
   "cell_type": "code",
   "execution_count": 51,
   "metadata": {},
   "outputs": [
    {
     "name": "stdout",
     "output_type": "stream",
     "text": [
      "['h world', 'e world', 'l world', 'l world', 'o world', '  world', 'w world', 'o world', 'r world', 'l world', 'd world']\n"
     ]
    }
   ],
   "source": [
    "# list comprehension\n",
    "# for 구문은 속도저하의 원인\n",
    "a:list = list('hello world')\n",
    "# for idx, i in enumerate(a):\n",
    "    # a[idx] = i + ' world'\n",
    "    \n",
    "# print(a)\n",
    "results: list = [i+' world' for i in a]\n",
    "print(results)"
   ]
  },
  {
   "cell_type": "code",
   "execution_count": 49,
   "metadata": {},
   "outputs": [
    {
     "name": "stdout",
     "output_type": "stream",
     "text": [
      "{'John': 230, 'David': 200, 'Viky': 190}\n"
     ]
    }
   ],
   "source": [
    "# dictionary comprehension\n",
    "a:dict = {'John':23, 'David': 20, 'Viky': 19}\n",
    "\n",
    "for k, v in a.items():\n",
    "    a[k] = v*10\n",
    "    \n",
    "print(a)\n",
    "\n",
    "results: dict = {k:v*10 for k,v in a.items()}\n",
    "results"
   ]
  },
  {
   "cell_type": "markdown",
   "metadata": {},
   "source": [
    "# Functions"
   ]
  },
  {
   "cell_type": "code",
   "execution_count": 53,
   "metadata": {},
   "outputs": [
    {
     "data": {
      "text/plain": [
       "3"
      ]
     },
     "execution_count": 53,
     "metadata": {},
     "output_type": "execute_result"
    }
   ],
   "source": [
    "a = 5\n",
    "b = 3\n",
    "\n",
    "a * b\n",
    "\n",
    "def lets_multiply(x, y):\n",
    "    return x * y\n",
    "\n",
    "lets_multiply(1, 3)"
   ]
  }
 ],
 "metadata": {
  "kernelspec": {
   "display_name": "kclass",
   "language": "python",
   "name": "python3"
  },
  "language_info": {
   "codemirror_mode": {
    "name": "ipython",
    "version": 3
   },
   "file_extension": ".py",
   "mimetype": "text/x-python",
   "name": "python",
   "nbconvert_exporter": "python",
   "pygments_lexer": "ipython3",
   "version": "3.10.10"
  }
 },
 "nbformat": 4,
 "nbformat_minor": 2
}
