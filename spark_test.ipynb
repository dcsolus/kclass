{
 "cells": [
  {
   "cell_type": "code",
   "execution_count": 1,
   "metadata": {},
   "outputs": [],
   "source": [
    "from pyspark.sql import SparkSession\n",
    "import pandas as pd\n",
    "from pyspark.sql.types import *\n",
    "\n",
    "spark =(\n",
    "    SparkSession\n",
    "    .builder\n",
    "    .appName('myspark')\n",
    "    .getOrCreate()\n",
    ")\n"
   ]
  },
  {
   "cell_type": "code",
   "execution_count": 2,
   "metadata": {},
   "outputs": [
    {
     "name": "stdout",
     "output_type": "stream",
     "text": [
      "[('id', 'int'), ('document', 'string'), ('label', 'tinyint')]\n",
      "+--------+----------------------------------+-----+\n",
      "|      id|                          document|label|\n",
      "+--------+----------------------------------+-----+\n",
      "| 9976970|  아 더빙.. 진짜 짜증나네요 목소리|    0|\n",
      "| 3819312|   흠...포스터보고 초딩영화줄.....|    1|\n",
      "|10265843|너무재밓었다그래서보는것을추천한다|    0|\n",
      "| 9045019|  교도소 이야기구먼 ..솔직히 재...|    0|\n",
      "| 6483659|사이몬페그의 익살스런 연기가 돋...|    1|\n",
      "| 5403919|  막 걸음마 뗀 3세부터 초등학교...|    0|\n",
      "| 7797314|원작의 긴장감을 제대로 살려내지...|    0|\n",
      "| 9443947| 별 반개도 아깝다 욕나온다 이응...|    0|\n",
      "| 7156791| 액션이 없는데도 재미 있는 몇안...|    1|\n",
      "| 5912145|  왜케 평점이 낮은건데? 꽤 볼만...|    1|\n",
      "| 9008700|    걍인피니트가짱이다.진짜짱이다♥|    1|\n",
      "|10217543| 볼때마다 눈물나서 죽겠다90년대...|    1|\n",
      "| 5957425| 울면서 손들고 횡단보도 건널때 ...|    0|\n",
      "| 8628627| 담백하고 깔끔해서 좋다. 신문기...|    1|\n",
      "| 9864035|취향은 존중한다지만 진짜 내생에...|    0|\n",
      "| 6852435|     ㄱ냥 매번 긴장되고 재밋음ㅠㅠ|    1|\n",
      "| 9143163| 참 사람들 웃긴게 바스코가 이기...|    1|\n",
      "| 4891476|굿바이 레닌 표절인것은 이해하는...|    0|\n",
      "| 7465483| 이건 정말 깨알 캐스팅과 질퍽하...|    1|\n",
      "| 3989148|   약탈자를 위한 변명, 이라. 저...|    1|\n",
      "+--------+----------------------------------+-----+\n",
      "only showing top 20 rows\n",
      "\n"
     ]
    }
   ],
   "source": [
    "schema = StructType([\n",
    "    StructField('id', IntegerType(), True),\n",
    "    StructField('document', StringType(), True),\n",
    "    StructField('label', ByteType(), True)\n",
    "])\n",
    "\n",
    "df = (\n",
    "    spark.read.format('csv')\n",
    "    .option('header', True)\n",
    "    .option('sep', '\\t')\n",
    "    .schema(schema)\n",
    "    # .option('inferSchema', True)\n",
    "    .load('ratings_train.txt')\n",
    ")\n",
    "\n",
    "print(df.dtypes)\n",
    "df.show()"
   ]
  },
  {
   "cell_type": "code",
   "execution_count": 83,
   "metadata": {},
   "outputs": [],
   "source": [
    "df.write.mode('overwrite').format('parquet').save('ratings_train')"
   ]
  }
 ],
 "metadata": {
  "kernelspec": {
   "display_name": "kclass",
   "language": "python",
   "name": "python3"
  },
  "language_info": {
   "codemirror_mode": {
    "name": "ipython",
    "version": 3
   },
   "file_extension": ".py",
   "mimetype": "text/x-python",
   "name": "python",
   "nbconvert_exporter": "python",
   "pygments_lexer": "ipython3",
   "version": "3.10.10"
  }
 },
 "nbformat": 4,
 "nbformat_minor": 2
}
