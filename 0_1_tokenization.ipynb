{
 "cells": [
  {
   "cell_type": "markdown",
   "metadata": {},
   "source": [
    "# 한글 토큰화\n",
    "- 파이썬 한글 토큰화 패키지(모듈) 설치\n",
    "- 모듈 불러오기(import)\n",
    "- 코퍼스 불러오기\n",
    "- 토큰화"
   ]
  },
  {
   "cell_type": "code",
   "execution_count": 4,
   "metadata": {},
   "outputs": [],
   "source": [
    "from konlpy.tag import Okt, Kkma, Komoran, Hannanum\n",
    "\n",
    "okt = Okt()"
   ]
  },
  {
   "cell_type": "code",
   "execution_count": 5,
   "metadata": {},
   "outputs": [
    {
     "name": "stdout",
     "output_type": "stream",
     "text": [
      "['토큰', '화', '는', '말뭉치', '를', '토큰', '이라는', '작은', '단위', '로', '분해', '하는', '과정', '이다', '!']\n"
     ]
    }
   ],
   "source": [
    "corpus = '토큰화는 말뭉치를 토큰이라는 작은 단위로 분해하는 과정이다!'\n",
    "tokens = okt.morphs(corpus)\n",
    "print(tokens)"
   ]
  },
  {
   "cell_type": "code",
   "execution_count": 6,
   "metadata": {},
   "outputs": [
    {
     "name": "stdout",
     "output_type": "stream",
     "text": [
      "['나랏말이중국과 달라 한자와 서로 통하지 아니하므로', '우매한 백성들이 말하고 싶은 것이 있어도 마침내 제 뜻을 잘 표현하지 못하는 사람이 많다.', '내 이를 딱하게 여기어 새로 스물여덟 자를 만들었으니', '사람들로 하여금 쉬 익히어 날마다 쓰는 데 편하게 할 뿐이다']\n"
     ]
    }
   ],
   "source": [
    "# 코퍼스 불러오기\n",
    "with open('sample_corpus_hangul.txt', encoding='utf-8') as f:\n",
    "    corpus = f.readlines()\n",
    "    corpus = [line.strip() for line in corpus] \n",
    "print(corpus)"
   ]
  },
  {
   "cell_type": "code",
   "execution_count": 7,
   "metadata": {},
   "outputs": [
    {
     "name": "stdout",
     "output_type": "stream",
     "text": [
      "나랏말이중국과 달라 한자와 서로 통하지 아니하므로\n",
      "Okt:      ['나랏말', '이', '중국', '과', '달라', '한자', '와', '서로', '통', '하지', '아니하므로']\n",
      "kkma:     ['나', '아', '랏', '말', 'ㄹ', '이중', '국', '과', '닿', 'ㄹ라', '한자', '와', '서로', '통하', '지', '아니하', '므로']\n",
      "komoran:  ['나랏말이중국과', '다르', '아', '한자', '와', '서로', '통하', '지', '아니하', '므로']\n",
      "hannanum: ['나랏말이중국', '과', '다르', '아', '하', 'ㄴ', '자', '와', '서로', '통하', '지', '아니하', '므로'] \n",
      "\n",
      "우매한 백성들이 말하고 싶은 것이 있어도 마침내 제 뜻을 잘 표현하지 못하는 사람이 많다.\n",
      "Okt:      ['우매', '한', '백성', '들', '이', '말', '하고', '싶은', '것', '이', '있어도', '마침내', '제', '뜻', '을', '잘', '표현', '하지', '못', '하는', '사람', '이', '많다', '.']\n",
      "kkma:     ['우매', '하', 'ㄴ', '백성', '들', '이', '말하', '고', '싶', '은', '것', '이', '있', '어도', '마침내', '저', '의', '뜻', '을', '잘', '표현', '하', '지', '못하', '는', '사람', '이', '많', '다', '.']\n",
      "komoran:  ['우매', '하', 'ㄴ', '백성', '들', '이', '말', '하', '고', '싶', '은', '것', '이', '있', '어도', '마침내', '제', '뜻', '을', '잘', '표현', '하', '지', '못하', '는', '사람', '이', '많', '다', '.']\n",
      "hannanum: ['우매', '하', 'ㄴ', '백성들', '이', '말', '하고', '싶', '은', '것', '이', '있', '어도', '마침내', '저', '의', '뜻', '을', '잘', '표현', '하', '지', '못하', '는', '사람', '이', '많', '다', '.'] \n",
      "\n",
      "내 이를 딱하게 여기어 새로 스물여덟 자를 만들었으니\n",
      "Okt:      ['내', '이를', '딱하게', '여기어', '새로', '스물', '여덟', '자를', '만들었으니']\n",
      "kkma:     ['내', '이르', 'ㄹ', '딱하', '게', '여기', '어', '새로', '스물', '여덟', '자', '를', '만들', '었', '으니']\n",
      "komoran:  ['내', '이', '를', '딱하', '게', '여기', '어', '새로', '스물', '여덟', '자', '를', '만들', '었', '으니']\n",
      "hannanum: ['내', '이', '를', '딱하', '게', '여기', '이', '어', '새로', '스물여덟', '자', '를', '만들', '었으니'] \n",
      "\n",
      "사람들로 하여금 쉬 익히어 날마다 쓰는 데 편하게 할 뿐이다\n",
      "Okt:      ['사람', '들', '로', '하여금', '쉬', '익히어', '날', '마다', '쓰는', '데', '편하게', '할', '뿐', '이다']\n",
      "kkma:     ['사람', '들', '로', '하여금', '쉬', '익히', '어', '날', '마다', '쓰', '는', '데', '편하', '게', '하', 'ㄹ', '뿐', '이', '다']\n",
      "komoran:  ['사람', '들', '로', '하여금', '쉬', '익히', '어', '날', '마다', '쓰', '는', '데', '편하', '게', '하', 'ㄹ', '뿐', '이', '다']\n",
      "hannanum: ['사람들', '로', '하여금', '쉬', '익히', '어', '날마다', '쓰', '는', '데', '편하', '게', '하', 'ㄹ', '뿐', '이', '다'] \n",
      "\n"
     ]
    }
   ],
   "source": [
    "kkma = Kkma()\n",
    "komoran = Komoran()\n",
    "hannanum = Hannanum()\n",
    "\n",
    "for t in corpus:\n",
    "    print(t)\n",
    "    print('Okt:     ', okt.morphs(t))\n",
    "    print('kkma:    ', kkma.morphs(t))\n",
    "    print('komoran: ', komoran.morphs(t))\n",
    "    print('hannanum:', hannanum.morphs(t), '\\n')"
   ]
  }
 ],
 "metadata": {
  "kernelspec": {
   "display_name": "kclass",
   "language": "python",
   "name": "python3"
  },
  "language_info": {
   "codemirror_mode": {
    "name": "ipython",
    "version": 3
   },
   "file_extension": ".py",
   "mimetype": "text/x-python",
   "name": "python",
   "nbconvert_exporter": "python",
   "pygments_lexer": "ipython3",
   "version": "3.10.10"
  }
 },
 "nbformat": 4,
 "nbformat_minor": 2
}
