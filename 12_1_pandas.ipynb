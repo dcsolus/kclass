{
 "cells": [
  {
   "cell_type": "markdown",
   "metadata": {},
   "source": [
    "# Numpy와 pandas\n",
    "# 데이터 불러오기 및 저장\n",
    "- 데이터베이스, 스프레드시트, csv, json 등등\n",
    "# 데이터프레임\n",
    "- 데이터프레임 이해\n",
    "- 데이터 분석"
   ]
  },
  {
   "cell_type": "code",
   "execution_count": null,
   "metadata": {
    "vscode": {
     "languageId": "plaintext"
    }
   },
   "outputs": [],
   "source": []
  }
 ],
 "metadata": {
  "language_info": {
   "name": "python"
  }
 },
 "nbformat": 4,
 "nbformat_minor": 2
}
