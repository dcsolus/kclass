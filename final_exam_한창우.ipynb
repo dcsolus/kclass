{
 "cells": [
  {
   "cell_type": "markdown",
   "metadata": {},
   "source": [
    "# 필수 라이브러리 설치\n",
    "\n",
    "아래 라이브러리를 <u>반드시 설치</u>하고 시험을 치릅니다.<br>\n",
    "**gensim** 과 **numpy**의 버전 호환성 문제로 triu from 'scipy.linag' 오류가 날 수 있으니,<br>\n",
    "requirements.txt에 있는 라이브러리만 설치합니다.\n",
    "\n",
    "- pip install -r requirements.txt"
   ]
  },
  {
   "cell_type": "markdown",
   "metadata": {},
   "source": [
    "![image.png](questions/Q1.png)"
   ]
  },
  {
   "cell_type": "code",
   "execution_count": 7,
   "metadata": {},
   "outputs": [
    {
     "name": "stdout",
     "output_type": "stream",
     "text": [
      "['나랏말', '이', '중국', '과', '달라', '한자', '와', '서로', '통', '하지', '아니하므로', '\\n', '우매', '한', '백성', '들', '이', '말', '하고', '싶은', '것', '이', '있어도', '마침내', '제', '뜻', '을', '잘', '표현', '하지', '못', '하는', '사람', '이', '많다', '.', '\\n', '내', '이를', '딱하게', '여기어', '새로', '스물', '여덟', '자를', '만들었으니', '\\n', '사람', '들', '로', '하여금', '쉬', '익히어', '날', '마다', '쓰는', '데', '편하게', '할', '뿐', '이다']\n",
      "전체 토큰 갯수 : 61\n"
     ]
    }
   ],
   "source": [
    "# 이곳에 코드를 작성하시오\n",
    "from konlpy.tag import Okt\n",
    "import pandas as pd\n",
    "\n",
    "tokenizer = Okt()\n",
    "\n",
    "with open('sample_corpus_hangul.txt', encoding='utf-8') as f:\n",
    "    data = f.read()\n",
    "tokens = tokenizer.morphs(data.strip())\n",
    "print(tokens)\n",
    "print(f'전체 토큰 갯수 : {len(tokens)}')\n"
   ]
  },
  {
   "cell_type": "markdown",
   "metadata": {},
   "source": [
    "![image.png](questions/Q2.png)"
   ]
  },
  {
   "cell_type": "code",
   "execution_count": 8,
   "metadata": {},
   "outputs": [
    {
     "ename": "UnicodeDecodeError",
     "evalue": "'cp949' codec can't decode byte 0xeb in position 6: illegal multibyte sequence",
     "output_type": "error",
     "traceback": [
      "\u001b[1;31m---------------------------------------------------------------------------\u001b[0m",
      "\u001b[1;31mUnicodeDecodeError\u001b[0m                        Traceback (most recent call last)",
      "Cell \u001b[1;32mIn[8], line 11\u001b[0m\n\u001b[0;32m      5\u001b[0m model \u001b[38;5;241m=\u001b[39m TfidfVectorizer(\n\u001b[0;32m      6\u001b[0m     analyzer\u001b[38;5;241m=\u001b[39m\u001b[38;5;124m'\u001b[39m\u001b[38;5;124mword\u001b[39m\u001b[38;5;124m'\u001b[39m,\n\u001b[0;32m      7\u001b[0m     max_features\u001b[38;5;241m=\u001b[39m\u001b[38;5;241m5\u001b[39m\n\u001b[0;32m      8\u001b[0m )\n\u001b[0;32m     10\u001b[0m \u001b[38;5;28;01mwith\u001b[39;00m \u001b[38;5;28mopen\u001b[39m(\u001b[38;5;124m'\u001b[39m\u001b[38;5;124m./sample_corpus.txt\u001b[39m\u001b[38;5;124m'\u001b[39m,\u001b[38;5;124m'\u001b[39m\u001b[38;5;124mr\u001b[39m\u001b[38;5;124m'\u001b[39m) \u001b[38;5;28;01mas\u001b[39;00m f:\n\u001b[1;32m---> 11\u001b[0m     lines \u001b[38;5;241m=\u001b[39m \u001b[43mf\u001b[49m\u001b[38;5;241;43m.\u001b[39;49m\u001b[43mreadlines\u001b[49m\u001b[43m(\u001b[49m\u001b[43m)\u001b[49m\n\u001b[0;32m     12\u001b[0m     lines \u001b[38;5;241m=\u001b[39m [line\u001b[38;5;241m.\u001b[39mstrip() \u001b[38;5;28;01mfor\u001b[39;00m line \u001b[38;5;129;01min\u001b[39;00m lines]\n\u001b[0;32m     14\u001b[0m data \u001b[38;5;241m=\u001b[39m model\u001b[38;5;241m.\u001b[39mfit_transform(lines)\u001b[38;5;241m.\u001b[39mtoarray()\n",
      "\u001b[1;31mUnicodeDecodeError\u001b[0m: 'cp949' codec can't decode byte 0xeb in position 6: illegal multibyte sequence"
     ]
    }
   ],
   "source": [
    "# 이곳에 코드를 작성하시오\n",
    "from sklearn.feature_extraction.text import TfidfVectorizer\n",
    "import pandas as pd\n",
    "\n",
    "model = TfidfVectorizer(\n",
    "    analyzer='word',\n",
    "    max_features=5\n",
    ")\n",
    "\n",
    "with open('./sample_corpus.txt','r') as f:\n",
    "    lines = f.readlines()\n",
    "    lines = [line.strip() for line in lines]\n",
    "\n",
    "data = model.fit_transform(lines).toarray()\n",
    "data = [line for line in data]\n",
    "\n",
    "data = pd.DataFrame({'text mining':data})\n",
    "print('text mining 결과')\n",
    "data"
   ]
  },
  {
   "cell_type": "markdown",
   "metadata": {},
   "source": [
    "![image.png](questions/Q3.png)"
   ]
  },
  {
   "cell_type": "code",
   "execution_count": 9,
   "metadata": {},
   "outputs": [
    {
     "name": "stdout",
     "output_type": "stream",
     "text": [
      "토큰화 결과\n"
     ]
    },
    {
     "data": {
      "text/html": [
       "<div>\n",
       "<style scoped>\n",
       "    .dataframe tbody tr th:only-of-type {\n",
       "        vertical-align: middle;\n",
       "    }\n",
       "\n",
       "    .dataframe tbody tr th {\n",
       "        vertical-align: top;\n",
       "    }\n",
       "\n",
       "    .dataframe thead th {\n",
       "        text-align: right;\n",
       "    }\n",
       "</style>\n",
       "<table border=\"1\" class=\"dataframe\">\n",
       "  <thead>\n",
       "    <tr style=\"text-align: right;\">\n",
       "      <th></th>\n",
       "      <th>id</th>\n",
       "      <th>document</th>\n",
       "      <th>label</th>\n",
       "      <th>embedding</th>\n",
       "    </tr>\n",
       "  </thead>\n",
       "  <tbody>\n",
       "    <tr>\n",
       "      <th>149900</th>\n",
       "      <td>9392240</td>\n",
       "      <td>진짜엄청재미없다 무서운장면은 딱한번나오고 그3초말고는 하나도안무섭고 지루하고 끝나고...</td>\n",
       "      <td>0</td>\n",
       "      <td>[진짜, 장면, 한번, 그, 하나, 귀신, 햇던]</td>\n",
       "    </tr>\n",
       "    <tr>\n",
       "      <th>149901</th>\n",
       "      <td>10141935</td>\n",
       "      <td>너무 짜증나서, 끝은봐야해서 2배속빨리보기했다. 안본사람 호기심이라도 같지말길. 가...</td>\n",
       "      <td>0</td>\n",
       "      <td>[끝, 배속, 보기, 안, 사람, 호기심, 가치, 강비, 추]</td>\n",
       "    </tr>\n",
       "    <tr>\n",
       "      <th>149902</th>\n",
       "      <td>9641183</td>\n",
       "      <td>설명은 줄이고 조율이 필요한 영화.</td>\n",
       "      <td>0</td>\n",
       "      <td>[설명, 줄, 조율, 영화]</td>\n",
       "    </tr>\n",
       "    <tr>\n",
       "      <th>149903</th>\n",
       "      <td>10276386</td>\n",
       "      <td>이야~~~40만 넘었내..베테랑은 9백만 넘었는데...나 협심증 걸렸다</td>\n",
       "      <td>0</td>\n",
       "      <td>[베테, 백만, 나, 협심증]</td>\n",
       "    </tr>\n",
       "    <tr>\n",
       "      <th>149904</th>\n",
       "      <td>4403898</td>\n",
       "      <td>전형적인 유치뽕짝 프랑스영화 새로운장르다 유치뽕짝</td>\n",
       "      <td>0</td>\n",
       "      <td>[전형, 유치, 뽕짝, 프랑스, 영화, 장르, 유치, 뽕짝]</td>\n",
       "    </tr>\n",
       "    <tr>\n",
       "      <th>...</th>\n",
       "      <td>...</td>\n",
       "      <td>...</td>\n",
       "      <td>...</td>\n",
       "      <td>...</td>\n",
       "    </tr>\n",
       "    <tr>\n",
       "      <th>149995</th>\n",
       "      <td>6222902</td>\n",
       "      <td>인간이 문제지.. 소는 뭔죄인가..</td>\n",
       "      <td>0</td>\n",
       "      <td>[인간, 문제, 소, 죄인]</td>\n",
       "    </tr>\n",
       "    <tr>\n",
       "      <th>149996</th>\n",
       "      <td>8549745</td>\n",
       "      <td>평점이 너무 낮아서...</td>\n",
       "      <td>1</td>\n",
       "      <td>[평점]</td>\n",
       "    </tr>\n",
       "    <tr>\n",
       "      <th>149997</th>\n",
       "      <td>9311800</td>\n",
       "      <td>이게 뭐요? 한국인은 거들먹거리고 필리핀 혼혈은 착하다?</td>\n",
       "      <td>0</td>\n",
       "      <td>[이, 뭐, 한국인, 먹거리, 필리핀, 혼혈]</td>\n",
       "    </tr>\n",
       "    <tr>\n",
       "      <th>149998</th>\n",
       "      <td>2376369</td>\n",
       "      <td>청춘 영화의 최고봉.방황과 우울했던 날들의 자화상</td>\n",
       "      <td>1</td>\n",
       "      <td>[청춘, 영화, 최고봉, 방황, 날, 자화상]</td>\n",
       "    </tr>\n",
       "    <tr>\n",
       "      <th>149999</th>\n",
       "      <td>9619869</td>\n",
       "      <td>한국 영화 최초로 수간하는 내용이 담긴 영화</td>\n",
       "      <td>0</td>\n",
       "      <td>[한국, 영화, 최초, 수간, 내용, 영화]</td>\n",
       "    </tr>\n",
       "  </tbody>\n",
       "</table>\n",
       "<p>100 rows × 4 columns</p>\n",
       "</div>"
      ],
      "text/plain": [
       "              id                                           document  label  \\\n",
       "149900   9392240  진짜엄청재미없다 무서운장면은 딱한번나오고 그3초말고는 하나도안무섭고 지루하고 끝나고...      0   \n",
       "149901  10141935  너무 짜증나서, 끝은봐야해서 2배속빨리보기했다. 안본사람 호기심이라도 같지말길. 가...      0   \n",
       "149902   9641183                                설명은 줄이고 조율이 필요한 영화.      0   \n",
       "149903  10276386            이야~~~40만 넘었내..베테랑은 9백만 넘었는데...나 협심증 걸렸다      0   \n",
       "149904   4403898                        전형적인 유치뽕짝 프랑스영화 새로운장르다 유치뽕짝      0   \n",
       "...          ...                                                ...    ...   \n",
       "149995   6222902                                인간이 문제지.. 소는 뭔죄인가..      0   \n",
       "149996   8549745                                      평점이 너무 낮아서...      1   \n",
       "149997   9311800                    이게 뭐요? 한국인은 거들먹거리고 필리핀 혼혈은 착하다?      0   \n",
       "149998   2376369                        청춘 영화의 최고봉.방황과 우울했던 날들의 자화상      1   \n",
       "149999   9619869                           한국 영화 최초로 수간하는 내용이 담긴 영화      0   \n",
       "\n",
       "                                 embedding  \n",
       "149900         [진짜, 장면, 한번, 그, 하나, 귀신, 햇던]  \n",
       "149901  [끝, 배속, 보기, 안, 사람, 호기심, 가치, 강비, 추]  \n",
       "149902                     [설명, 줄, 조율, 영화]  \n",
       "149903                    [베테, 백만, 나, 협심증]  \n",
       "149904   [전형, 유치, 뽕짝, 프랑스, 영화, 장르, 유치, 뽕짝]  \n",
       "...                                    ...  \n",
       "149995                     [인간, 문제, 소, 죄인]  \n",
       "149996                                [평점]  \n",
       "149997           [이, 뭐, 한국인, 먹거리, 필리핀, 혼혈]  \n",
       "149998           [청춘, 영화, 최고봉, 방황, 날, 자화상]  \n",
       "149999            [한국, 영화, 최초, 수간, 내용, 영화]  \n",
       "\n",
       "[100 rows x 4 columns]"
      ]
     },
     "execution_count": 9,
     "metadata": {},
     "output_type": "execute_result"
    }
   ],
   "source": [
    "# 이곳에 코드를 작성하시오\n",
    "from konlpy.tag import Okt\n",
    "import pandas as pd\n",
    "\n",
    "tokenizer = Okt()\n",
    "data = pd.read_table('./ratings_train.txt')[-100:]\n",
    "\n",
    "def get_tokens(row):\n",
    "    pos = tokenizer.pos(row)\n",
    "    tokens = []\n",
    "    for token,ad in pos:\n",
    "        if ad == 'Noun':\n",
    "            tokens.append(token)\n",
    "    return tokens\n",
    "# get_tokens(data.loc[149900,'document'])\n",
    "\n",
    "data['embedding']=data['document'].apply(lambda row: get_tokens(row))\n",
    "print('토큰화 결과')\n",
    "data\n"
   ]
  },
  {
   "cell_type": "markdown",
   "metadata": {},
   "source": [
    "![image.png](questions/Q4.png)"
   ]
  },
  {
   "cell_type": "code",
   "execution_count": 10,
   "metadata": {},
   "outputs": [
    {
     "name": "stdout",
     "output_type": "stream",
     "text": [
      "sentence embedding 결과\n"
     ]
    },
    {
     "data": {
      "text/html": [
       "<div>\n",
       "<style scoped>\n",
       "    .dataframe tbody tr th:only-of-type {\n",
       "        vertical-align: middle;\n",
       "    }\n",
       "\n",
       "    .dataframe tbody tr th {\n",
       "        vertical-align: top;\n",
       "    }\n",
       "\n",
       "    .dataframe thead th {\n",
       "        text-align: right;\n",
       "    }\n",
       "</style>\n",
       "<table border=\"1\" class=\"dataframe\">\n",
       "  <thead>\n",
       "    <tr style=\"text-align: right;\">\n",
       "      <th></th>\n",
       "      <th>id</th>\n",
       "      <th>document</th>\n",
       "      <th>label</th>\n",
       "      <th>embedding</th>\n",
       "    </tr>\n",
       "  </thead>\n",
       "  <tbody>\n",
       "    <tr>\n",
       "      <th>149900</th>\n",
       "      <td>9392240</td>\n",
       "      <td>진짜엄청재미없다 무서운장면은 딱한번나오고 그3초말고는 하나도안무섭고 지루하고 끝나고...</td>\n",
       "      <td>0</td>\n",
       "      <td>[[0.07557218, -0.019882103, -0.041863266, 0.06...</td>\n",
       "    </tr>\n",
       "    <tr>\n",
       "      <th>149901</th>\n",
       "      <td>10141935</td>\n",
       "      <td>너무 짜증나서, 끝은봐야해서 2배속빨리보기했다. 안본사람 호기심이라도 같지말길. 가...</td>\n",
       "      <td>0</td>\n",
       "      <td>[[-0.07131933, 0.011671868, -0.07060782, -0.02...</td>\n",
       "    </tr>\n",
       "    <tr>\n",
       "      <th>149902</th>\n",
       "      <td>9641183</td>\n",
       "      <td>설명은 줄이고 조율이 필요한 영화.</td>\n",
       "      <td>0</td>\n",
       "      <td>[[0.056597356, 0.05424719, 0.01937596, 0.05803...</td>\n",
       "    </tr>\n",
       "    <tr>\n",
       "      <th>149903</th>\n",
       "      <td>10276386</td>\n",
       "      <td>이야~~~40만 넘었내..베테랑은 9백만 넘었는데...나 협심증 걸렸다</td>\n",
       "      <td>0</td>\n",
       "      <td>[[-0.044348698, -0.06259152, 0.09554746, -0.02...</td>\n",
       "    </tr>\n",
       "    <tr>\n",
       "      <th>149904</th>\n",
       "      <td>4403898</td>\n",
       "      <td>전형적인 유치뽕짝 프랑스영화 새로운장르다 유치뽕짝</td>\n",
       "      <td>0</td>\n",
       "      <td>[[-0.08403921, -0.015367781, -0.025305228, 0.0...</td>\n",
       "    </tr>\n",
       "    <tr>\n",
       "      <th>...</th>\n",
       "      <td>...</td>\n",
       "      <td>...</td>\n",
       "      <td>...</td>\n",
       "      <td>...</td>\n",
       "    </tr>\n",
       "    <tr>\n",
       "      <th>149995</th>\n",
       "      <td>6222902</td>\n",
       "      <td>인간이 문제지.. 소는 뭔죄인가..</td>\n",
       "      <td>0</td>\n",
       "      <td>[[0.006857192, -0.09226321, -0.09485956, -0.07...</td>\n",
       "    </tr>\n",
       "    <tr>\n",
       "      <th>149996</th>\n",
       "      <td>8549745</td>\n",
       "      <td>평점이 너무 낮아서...</td>\n",
       "      <td>1</td>\n",
       "      <td>[[-0.072861925, -0.01454594, 0.102436885, -0.0...</td>\n",
       "    </tr>\n",
       "    <tr>\n",
       "      <th>149997</th>\n",
       "      <td>9311800</td>\n",
       "      <td>이게 뭐요? 한국인은 거들먹거리고 필리핀 혼혈은 착하다?</td>\n",
       "      <td>0</td>\n",
       "      <td>[[0.054196857, 0.081992336, -0.01440321, -0.09...</td>\n",
       "    </tr>\n",
       "    <tr>\n",
       "      <th>149998</th>\n",
       "      <td>2376369</td>\n",
       "      <td>청춘 영화의 최고봉.방황과 우울했던 날들의 자화상</td>\n",
       "      <td>1</td>\n",
       "      <td>[[-0.051638637, -0.075929135, -0.027410807, -0...</td>\n",
       "    </tr>\n",
       "    <tr>\n",
       "      <th>149999</th>\n",
       "      <td>9619869</td>\n",
       "      <td>한국 영화 최초로 수간하는 내용이 담긴 영화</td>\n",
       "      <td>0</td>\n",
       "      <td>[[-0.084461294, 0.030902827, 0.058976606, 0.05...</td>\n",
       "    </tr>\n",
       "  </tbody>\n",
       "</table>\n",
       "<p>100 rows × 4 columns</p>\n",
       "</div>"
      ],
      "text/plain": [
       "              id                                           document  label  \\\n",
       "149900   9392240  진짜엄청재미없다 무서운장면은 딱한번나오고 그3초말고는 하나도안무섭고 지루하고 끝나고...      0   \n",
       "149901  10141935  너무 짜증나서, 끝은봐야해서 2배속빨리보기했다. 안본사람 호기심이라도 같지말길. 가...      0   \n",
       "149902   9641183                                설명은 줄이고 조율이 필요한 영화.      0   \n",
       "149903  10276386            이야~~~40만 넘었내..베테랑은 9백만 넘었는데...나 협심증 걸렸다      0   \n",
       "149904   4403898                        전형적인 유치뽕짝 프랑스영화 새로운장르다 유치뽕짝      0   \n",
       "...          ...                                                ...    ...   \n",
       "149995   6222902                                인간이 문제지.. 소는 뭔죄인가..      0   \n",
       "149996   8549745                                      평점이 너무 낮아서...      1   \n",
       "149997   9311800                    이게 뭐요? 한국인은 거들먹거리고 필리핀 혼혈은 착하다?      0   \n",
       "149998   2376369                        청춘 영화의 최고봉.방황과 우울했던 날들의 자화상      1   \n",
       "149999   9619869                           한국 영화 최초로 수간하는 내용이 담긴 영화      0   \n",
       "\n",
       "                                                embedding  \n",
       "149900  [[0.07557218, -0.019882103, -0.041863266, 0.06...  \n",
       "149901  [[-0.07131933, 0.011671868, -0.07060782, -0.02...  \n",
       "149902  [[0.056597356, 0.05424719, 0.01937596, 0.05803...  \n",
       "149903  [[-0.044348698, -0.06259152, 0.09554746, -0.02...  \n",
       "149904  [[-0.08403921, -0.015367781, -0.025305228, 0.0...  \n",
       "...                                                   ...  \n",
       "149995  [[0.006857192, -0.09226321, -0.09485956, -0.07...  \n",
       "149996  [[-0.072861925, -0.01454594, 0.102436885, -0.0...  \n",
       "149997  [[0.054196857, 0.081992336, -0.01440321, -0.09...  \n",
       "149998  [[-0.051638637, -0.075929135, -0.027410807, -0...  \n",
       "149999  [[-0.084461294, 0.030902827, 0.058976606, 0.05...  \n",
       "\n",
       "[100 rows x 4 columns]"
      ]
     },
     "execution_count": 10,
     "metadata": {},
     "output_type": "execute_result"
    }
   ],
   "source": [
    "# 이곳에 코드를 작성하시오.\n",
    "from gensim.models import Word2Vec\n",
    "import numpy as np\n",
    "\n",
    "w2v_model = Word2Vec(\n",
    "    data['embedding'],\n",
    "    vector_size=10,\n",
    "    min_count=1,\n",
    "    window=5,\n",
    "    sg=1\n",
    ")\n",
    "\n",
    "def get_embedding(tokens):\n",
    "    embs = []\n",
    "    for token in tokens:\n",
    "        emb = w2v_model.wv[token]\n",
    "        embs.append(emb)\n",
    "    return embs\n",
    "\n",
    "data['embedding']=data['embedding'].apply(lambda row: get_embedding(row))\n",
    "print('sentence embedding 결과')\n",
    "data"
   ]
  },
  {
   "cell_type": "markdown",
   "metadata": {},
   "source": [
    "![image.png](questions/Q5.png)"
   ]
  },
  {
   "cell_type": "code",
   "execution_count": 11,
   "metadata": {},
   "outputs": [
    {
     "name": "stdout",
     "output_type": "stream",
     "text": [
      "5.1 결과\n",
      "['H', 'e', 'l', 'l', 'o', ' ', 'w', 'o', 'r', 'l', 'd', ' ', '2', '0', '2', 'Hello there']\n",
      "\n",
      "5.2 결과\n",
      "{'David': 25, 'Nami': 20, 'John': 28, 'Johnson': 21, 'Ethan': 30}\n"
     ]
    }
   ],
   "source": [
    "# 이곳에 코드를 작성하시오\n",
    "a = 'Hello world'\n",
    "characters = [c for c in a]\n",
    "characters = characters + [' ','2','0','2','Hello there']\n",
    "print('5.1 결과')\n",
    "print(characters)\n",
    "\n",
    "d1 = {'David':25, 'Nami':20,'John':28}\n",
    "d2 = {'Johnson':21,'Ethan':30}\n",
    "\n",
    "d3 = {**d1,**d2}\n",
    "print()\n",
    "print('5.2 결과')\n",
    "print(d3)"
   ]
  },
  {
   "cell_type": "markdown",
   "metadata": {},
   "source": [
    "![image.png](questions/Q6.png)"
   ]
  },
  {
   "cell_type": "code",
   "execution_count": 12,
   "metadata": {},
   "outputs": [
    {
     "name": "stdout",
     "output_type": "stream",
     "text": [
      "입력: [ 2  4  6  8 10]\n",
      "결과: [ 4  8 12 16 20]\n"
     ]
    }
   ],
   "source": [
    "# 이곳에 코드를 작성하시오\n",
    "import numpy as np\n",
    "x = np.arange(2,12,2)\n",
    "print('입력:',x)\n",
    "out = x*2\n",
    "print('결과:',out)"
   ]
  },
  {
   "cell_type": "markdown",
   "metadata": {},
   "source": [
    "![image.png](questions/Q7.png)"
   ]
  },
  {
   "cell_type": "code",
   "execution_count": 13,
   "metadata": {},
   "outputs": [
    {
     "name": "stdout",
     "output_type": "stream",
     "text": [
      "Dataframe\n",
      "  category    Name  Age  Income\n",
      "0        A    John   28   50000\n",
      "1        B    Anna   34   60000\n",
      "2        A  Perter   45   80000\n",
      "3        B   Linda   32   75000\n",
      "\n",
      "카테고리별 평균값 계산\n"
     ]
    },
    {
     "data": {
      "text/html": [
       "<div>\n",
       "<style scoped>\n",
       "    .dataframe tbody tr th:only-of-type {\n",
       "        vertical-align: middle;\n",
       "    }\n",
       "\n",
       "    .dataframe tbody tr th {\n",
       "        vertical-align: top;\n",
       "    }\n",
       "\n",
       "    .dataframe thead th {\n",
       "        text-align: right;\n",
       "    }\n",
       "</style>\n",
       "<table border=\"1\" class=\"dataframe\">\n",
       "  <thead>\n",
       "    <tr style=\"text-align: right;\">\n",
       "      <th></th>\n",
       "      <th>Age</th>\n",
       "      <th>Income</th>\n",
       "    </tr>\n",
       "    <tr>\n",
       "      <th>category</th>\n",
       "      <th></th>\n",
       "      <th></th>\n",
       "    </tr>\n",
       "  </thead>\n",
       "  <tbody>\n",
       "    <tr>\n",
       "      <th>A</th>\n",
       "      <td>36.5</td>\n",
       "      <td>65000.0</td>\n",
       "    </tr>\n",
       "    <tr>\n",
       "      <th>B</th>\n",
       "      <td>33.0</td>\n",
       "      <td>67500.0</td>\n",
       "    </tr>\n",
       "  </tbody>\n",
       "</table>\n",
       "</div>"
      ],
      "text/plain": [
       "           Age   Income\n",
       "category               \n",
       "A         36.5  65000.0\n",
       "B         33.0  67500.0"
      ]
     },
     "execution_count": 13,
     "metadata": {},
     "output_type": "execute_result"
    }
   ],
   "source": [
    "# 이곳에 코드를 작성하시오.\n",
    "import pandas as pd\n",
    "\n",
    "category = ['A','B','A','B']\n",
    "Name = ['John','Anna','Perter','Linda']\n",
    "Age = [28,34,45,32]\n",
    "Income = [50000,60000,80000,75000]\n",
    "\n",
    "data = pd.DataFrame({'category':category,'Name':Name,'Age':Age,'Income':Income})\n",
    "print('Dataframe')\n",
    "print(data)\n",
    "\n",
    "print()\n",
    "print('카테고리별 평균값 계산')\n",
    "data.groupby('category')[['Age','Income']].mean()"
   ]
  },
  {
   "cell_type": "markdown",
   "metadata": {},
   "source": [
    "![image.png](questions/Q8.png)"
   ]
  },
  {
   "cell_type": "code",
   "execution_count": 14,
   "metadata": {},
   "outputs": [
    {
     "data": {
      "image/png": "[encoded data removed]",
      "text/plain": [
       "<Figure size 640x480 with 1 Axes>"
      ]
     },
     "metadata": {},
     "output_type": "display_data"
    },
    {
     "data": {
      "text/plain": [
       "<Figure size 500x300 with 0 Axes>"
      ]
     },
     "metadata": {},
     "output_type": "display_data"
    }
   ],
   "source": [
    "# 이곳에 코드를 작성하시오\n",
    "import matplotlib.pyplot as plt\n",
    "\n",
    "year = [2021,2022,2023,2024]\n",
    "income = [60000,63000,64000,80000]\n",
    "\n",
    "plt.plot(year,income,color='orange')\n",
    "plt.xlabel('year')\n",
    "plt.ylabel('income')\n",
    "plt.title('Year Income Change')\n",
    "plt.figure(figsize=(5,3))\n",
    "plt.show()"
   ]
  }
 ],
 "metadata": {
  "kernelspec": {
   "display_name": "kclass",
   "language": "python",
   "name": "python3"
  },
  "language_info": {
   "codemirror_mode": {
    "name": "ipython",
    "version": 3
   },
   "file_extension": ".py",
   "mimetype": "text/x-python",
   "name": "python",
   "nbconvert_exporter": "python",
   "pygments_lexer": "ipython3",
   "version": "3.10.10"
  }
 },
 "nbformat": 4,
 "nbformat_minor": 2
}
