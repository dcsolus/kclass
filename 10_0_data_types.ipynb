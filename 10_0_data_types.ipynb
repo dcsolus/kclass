{
 "cells": [
  {
   "cell_type": "markdown",
   "metadata": {},
   "source": [
    "![image.png](imgs/data_types.png)\n"
   ]
  },
  {
   "cell_type": "markdown",
   "metadata": {},
   "source": [
    "# Numeric Type\n",
    "- ingeger\n",
    "- float\n",
    "- complext number"
   ]
  },
  {
   "cell_type": "code",
   "execution_count": 4,
   "metadata": {},
   "outputs": [
    {
     "name": "stdout",
     "output_type": "stream",
     "text": [
      "<class 'complex'> (3+3j)\n"
     ]
    }
   ],
   "source": [
    "a = 3 + 3j\n",
    "print(type(a), a)"
   ]
  },
  {
   "cell_type": "markdown",
   "metadata": {},
   "source": [
    "# Lesson: Week 11\n",
    "## Re-inforcement Learning\n",
    "## Python types\n",
    "## Python Operators\n",
    "## Machine Learning Libraries\n",
    "### Numpy\n",
    "### Pandas\n",
    "### Matplotlib"
   ]
  },
  {
   "cell_type": "markdown",
   "metadata": {},
   "source": [
    "# Sequence Type\n",
    "- string\n",
    "- list\n",
    "- tuple"
   ]
  },
  {
   "cell_type": "code",
   "execution_count": 43,
   "metadata": {},
   "outputs": [
    {
     "name": "stdout",
     "output_type": "stream",
     "text": [
      "Hello world 2024How are you\n"
     ]
    }
   ],
   "source": [
    "a = 'Hello world 2024' # \"Hello world 2024\"\n",
    "b = 'How are you'\n",
    "c = a + b\n",
    "print(c)\n"
   ]
  },
  {
   "cell_type": "code",
   "execution_count": 18,
   "metadata": {},
   "outputs": [
    {
     "name": "stdout",
     "output_type": "stream",
     "text": [
      "Hello world 2024\n",
      "['H', 'e', 'l', 'l', 'o', ' ', 'w', 'o', 'r', 'l', 'd', ' ', '2', '0', '2', '4']\n",
      "H\n",
      "[1, 2, '3', 4, 100]\n"
     ]
    },
    {
     "data": {
      "text/plain": [
       "[1, 2, '3', 4, 20]"
      ]
     },
     "execution_count": 18,
     "metadata": {},
     "output_type": "execute_result"
    }
   ],
   "source": [
    "print(a)\n",
    "\n",
    "b = list(a)\n",
    "print(b)\n",
    "print(b[0])\n",
    "\n",
    "l = [1,2,'3',4]\n",
    "l.append(100)\n",
    "print(l)\n",
    "l[-1] = 20\n",
    "l"
   ]
  },
  {
   "cell_type": "markdown",
   "metadata": {},
   "source": [
    "# Set"
   ]
  },
  {
   "cell_type": "code",
   "execution_count": 38,
   "metadata": {},
   "outputs": [
    {
     "name": "stdout",
     "output_type": "stream",
     "text": [
      "['H', 'e', 'l', 'l', 'o', ' ', 'w', 'o', 'r', 'l', 'd', ' ', '2', '0', '2', '4']\n",
      "['H', 'e', 'l', 'l', 'o', ' ', 'w', 'o', 'r', 'l', 'd', ' ', '2', '0', '2', 'Hello there']\n",
      "{'l', '0', 'w', '4', '2', 'H', 'o', 'r', ' ', 'e', 'd'}\n",
      "('H', 'e', 'l', 'l', 'o', ' ', 'w', 'o', 'r', 'l', 'd', ' ', '2', '0', '2', '4')\n",
      "4\n"
     ]
    },
    {
     "ename": "TypeError",
     "evalue": "'tuple' object does not support item assignment",
     "output_type": "error",
     "traceback": [
      "\u001b[1;31m---------------------------------------------------------------------------\u001b[0m",
      "\u001b[1;31mTypeError\u001b[0m                                 Traceback (most recent call last)",
      "Cell \u001b[1;32mIn[38], line 10\u001b[0m\n\u001b[0;32m      8\u001b[0m \u001b[38;5;28mprint\u001b[39m(t)\n\u001b[0;32m      9\u001b[0m \u001b[38;5;28mprint\u001b[39m(t[\u001b[38;5;241m-\u001b[39m\u001b[38;5;241m1\u001b[39m])\n\u001b[1;32m---> 10\u001b[0m \u001b[43mt\u001b[49m\u001b[43m[\u001b[49m\u001b[38;5;241;43m-\u001b[39;49m\u001b[38;5;241;43m1\u001b[39;49m\u001b[43m]\u001b[49m \u001b[38;5;241m=\u001b[39m \u001b[38;5;241m0\u001b[39m\n",
      "\u001b[1;31mTypeError\u001b[0m: 'tuple' object does not support item assignment"
     ]
    }
   ],
   "source": [
    "l = list(a) # read, write, append => mutable\n",
    "s = set(a)\n",
    "t = tuple(a) # ordered, all data types. IMPORTANT: immutable(read only)\n",
    "print(l)\n",
    "l[-1] = 'Hello there'\n",
    "print(l)\n",
    "print(s)\n",
    "print(t)\n",
    "print(t[-1])\n",
    "t[-1] = 0"
   ]
  },
  {
   "cell_type": "markdown",
   "metadata": {},
   "source": [
    "## Dictionary"
   ]
  },
  {
   "cell_type": "code",
   "execution_count": 56,
   "metadata": {},
   "outputs": [
    {
     "name": "stdout",
     "output_type": "stream",
     "text": [
      "{'David': 25, 'Nami': 20, 'John': 28, 'Johnson': 21, 'Ethan': 30}\n"
     ]
    }
   ],
   "source": [
    "d1 = {'David':25, 'Nami': 20, 'John':28} # key: value\n",
    "d2 = {'Johnson':21, 'Ethan':30}\n",
    "\n",
    "d3 = {**d1, **d2}\n",
    "# d3 = d1 | d2\n",
    "print(d3)\n",
    "\n",
    "# result = d1.get('Johnson', 10)\n",
    "# print('result:', result)\n"
   ]
  },
  {
   "cell_type": "markdown",
   "metadata": {},
   "source": [
    "## Merge data"
   ]
  },
  {
   "cell_type": "code",
   "execution_count": 54,
   "metadata": {},
   "outputs": [
    {
     "name": "stdout",
     "output_type": "stream",
     "text": [
      "Hello world 2024 How are you\n",
      "['l', '0', '4', '2', 'd']\n"
     ]
    },
    {
     "data": {
      "text/plain": [
       "{'0', '2', '4', 'd', 'l'}"
      ]
     },
     "execution_count": 54,
     "metadata": {},
     "output_type": "execute_result"
    }
   ],
   "source": [
    "print(a, b)\n",
    "l1 = list(a)\n",
    "l2 = list(b)\n",
    "\n",
    "l3 = list(set(l1).difference(l2))\n",
    "print(l3)\n",
    "\n",
    "s1 = set(a)\n",
    "s2 = set(b)\n",
    "# s3 = s1.union(s2) # s2.union(s1)\n",
    "s3 = s1.difference(s2)\n",
    "s3\n"
   ]
  },
  {
   "cell_type": "markdown",
   "metadata": {},
   "source": [
    "## Boolean"
   ]
  },
  {
   "cell_type": "code",
   "execution_count": 62,
   "metadata": {},
   "outputs": [
    {
     "data": {
      "text/plain": [
       "True"
      ]
     },
     "execution_count": 62,
     "metadata": {},
     "output_type": "execute_result"
    }
   ],
   "source": [
    "# True or False\n",
    "a = 1 # or False\n",
    "b = 2\n",
    "\n",
    "c = bool(a<=b)\n",
    "c"
   ]
  },
  {
   "cell_type": "markdown",
   "metadata": {},
   "source": [
    "## Casting(변수의 타입을 변환)\n",
    "### integer <-> float\n",
    "### str <-> list, tuple, set"
   ]
  },
  {
   "cell_type": "code",
   "execution_count": 65,
   "metadata": {},
   "outputs": [
    {
     "name": "stdout",
     "output_type": "stream",
     "text": [
      "<class 'int'>\n",
      "<class 'float'>\n"
     ]
    }
   ],
   "source": [
    "\n",
    "\n",
    "a = 3\n",
    "print(type(a))\n",
    "\n",
    "a = float(a)\n",
    "print(type(a))"
   ]
  }
 ],
 "metadata": {
  "kernelspec": {
   "display_name": "kuniv-python-basics",
   "language": "python",
   "name": "python3"
  },
  "language_info": {
   "codemirror_mode": {
    "name": "ipython",
    "version": 3
   },
   "file_extension": ".py",
   "mimetype": "text/x-python",
   "name": "python",
   "nbconvert_exporter": "python",
   "pygments_lexer": "ipython3",
   "version": "3.10.10"
  }
 },
 "nbformat": 4,
 "nbformat_minor": 2
}
